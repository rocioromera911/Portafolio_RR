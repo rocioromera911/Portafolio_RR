{
  "cells": [
    {
      "cell_type": "markdown",
      "metadata": {
        "id": "view-in-github",
        "colab_type": "text"
      },
      "source": [
        "<a href=\"https://colab.research.google.com/github/rocioromera911/Portafolio_RR/blob/main/test_opencv_dig.ipynb\" target=\"_parent\"><img src=\"https://colab.research.google.com/assets/colab-badge.svg\" alt=\"Open In Colab\"/></a>"
      ]
    },
    {
      "cell_type": "markdown",
      "metadata": {
        "id": "FHszIGplBGZ1"
      },
      "source": [
        "# Procesamiento de Imágenes - Test Técnico OpenCV"
      ]
    },
    {
      "cell_type": "code",
      "execution_count": null,
      "metadata": {
        "id": "szyAre0vBGZ4"
      },
      "outputs": [],
      "source": [
        "# ✅ Librerías necesarias\n",
        "import cv2\n",
        "import numpy as np\n",
        "import matplotlib.pyplot as plt\n",
        "from skimage import measure"
      ]
    },
    {
      "cell_type": "code",
      "execution_count": null,
      "metadata": {
        "id": "Q9GGmLw4BGZ5"
      },
      "outputs": [],
      "source": [
        "# ✅ Leer y redimensionar Test1.jpg\n",
        "img = cv2.imread('/content/Test1.jpg')\n",
        "img_resized = cv2.resize(img, (1024, 1024))\n",
        "cv2.imwrite('/content/Test1_resized.jpg', img_resized)"
      ]
    },
    {
      "cell_type": "code",
      "execution_count": null,
      "metadata": {
        "id": "ydasou_uBGZ6"
      },
      "outputs": [],
      "source": [
        "# ✅ Dividir en 4 cuadrantes\n",
        "h, w = img_resized.shape[:2]\n",
        "quads = [\n",
        "    img_resized[0:h//2, 0:w//2],\n",
        "    img_resized[0:h//2, w//2:],\n",
        "    img_resized[h//2:, 0:w//2],\n",
        "    img_resized[h//2:, w//2:]\n",
        "]\n",
        "plt.figure(figsize=(10, 10))\n",
        "for i, quad in enumerate(quads):\n",
        "    plt.subplot(2, 2, i+1)\n",
        "    plt.imshow(cv2.cvtColor(quad, cv2.COLOR_BGR2RGB))\n",
        "    plt.title(f'Cuadrante {i+1}')\n",
        "    plt.axis('off')\n",
        "plt.show()"
      ]
    },
    {
      "cell_type": "code",
      "execution_count": null,
      "metadata": {
        "id": "7uQAa_gOBGZ7"
      },
      "outputs": [],
      "source": [
        "# ✅ Ecualización por canal\n",
        "channels = cv2.split(img_resized)\n",
        "colors = ['b', 'g', 'r']\n",
        "plt.figure(figsize=(12, 4))\n",
        "for i, (ch, color) in enumerate(zip(channels, colors)):\n",
        "    eq = cv2.equalizeHist(ch)\n",
        "    plt.subplot(1, 3, i+1)\n",
        "    plt.hist(eq.ravel(), bins=256, color=color)\n",
        "    plt.title(f'Canal {color.upper()} Ecualizado')\n",
        "plt.tight_layout()\n",
        "plt.show()"
      ]
    },
    {
      "cell_type": "code",
      "execution_count": null,
      "metadata": {
        "id": "L4jE1yLQBGZ7"
      },
      "outputs": [],
      "source": [
        "# ✅ Procesar MASK.tif\n",
        "mask = cv2.imread('/content/MASK.tif', cv2.IMREAD_GRAYSCALE)\n",
        "binary = (mask * 255).astype(np.uint8)  # convertir de [0,1] a [0,255]\n",
        "labels = measure.label(binary, connectivity=2)\n",
        "props = measure.regionprops(labels)\n",
        "if len(props) > 0:\n",
        "    total_objects = len(props)\n",
        "    avg_area = np.mean([p.area for p in props])\n",
        "    print(f'Total de objetos: {total_objects}')\n",
        "    print(f'Área promedio: {avg_area:.2f}')\n",
        "else:\n",
        "    print('⚠️ No se encontraron objetos en la máscara.')"
      ]
    },
    {
      "cell_type": "code",
      "execution_count": null,
      "metadata": {
        "id": "XF9pmWRtBGZ7"
      },
      "outputs": [],
      "source": [
        "# ✅ Apertura morfológica\n",
        "kernel = cv2.getStructuringElement(cv2.MORPH_ELLIPSE, (5,5))\n",
        "opened = cv2.morphologyEx(binary, cv2.MORPH_OPEN, kernel)\n",
        "plt.imshow(opened, cmap='gray')\n",
        "plt.title('Máscara con apertura')\n",
        "plt.axis('off')\n",
        "plt.show()"
      ]
    },
    {
      "cell_type": "code",
      "execution_count": null,
      "metadata": {
        "id": "3qHwp6OzBGZ8"
      },
      "outputs": [],
      "source": [
        "# ✅ Fusionar máscara azul sobre Test1\n",
        "mask_color = np.zeros_like(img_resized)\n",
        "mask_color[:, :, 0] = binary\n",
        "fused = cv2.addWeighted(img_resized, 1.0, mask_color, 0.5, 0)\n",
        "plt.imshow(cv2.cvtColor(fused, cv2.COLOR_BGR2RGB))\n",
        "plt.title('Fusión con máscara azul')\n",
        "plt.axis('off')\n",
        "plt.show()"
      ]
    },
    {
      "cell_type": "markdown",
      "metadata": {
        "id": "sOmetMlyBGZ8"
      },
      "source": [
        "## Descripción técnica de la máscara:\n",
        "- Tipo de variable: Binaria (originalmente con valores 0 y 1, convertida a 0 y 255)\n",
        "- Conteo de objetos realizado con `skimage.measure.label()`\n",
        "- Promedio de área obtenido con `.area` de `regionprops()`\n",
        "- Apertura morfológica aplicada con OpenCV `cv2.morphologyEx()`\n",
        "- Se utilizó un kernel elíptico de 5x5 para la operación morfológica."
      ]
    }
  ],
  "metadata": {
    "colab": {
      "provenance": [],
      "include_colab_link": true
    },
    "language_info": {
      "name": "python"
    },
    "kernelspec": {
      "name": "python3",
      "display_name": "Python 3"
    }
  },
  "nbformat": 4,
  "nbformat_minor": 0
}
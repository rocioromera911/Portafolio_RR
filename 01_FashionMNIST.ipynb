{
  "cells": [
    {
      "cell_type": "markdown",
      "metadata": {
        "id": "view-in-github",
        "colab_type": "text"
      },
      "source": [
        "<a href=\"https://colab.research.google.com/github/rocioromera911/Portafolio_RR/blob/main/01_FashionMNIST.ipynb\" target=\"_parent\"><img src=\"https://colab.research.google.com/assets/colab-badge.svg\" alt=\"Open In Colab\"/></a>"
      ]
    },
    {
      "cell_type": "markdown",
      "metadata": {
        "id": "KXFwK11qA2ZG"
      },
      "source": []
    },
    {
      "cell_type": "markdown",
      "metadata": {
        "id": "UVlPjf4TA2ZI"
      },
      "source": [
        "# Clasificación de Imágenes con Keras DNN- Fashion MNIST"
      ]
    },
    {
      "cell_type": "markdown",
      "metadata": {
        "id": "oZxVsmg7A2ZL"
      },
      "source": []
    },
    {
      "cell_type": "code",
      "execution_count": null,
      "metadata": {
        "ExecuteTime": {
          "end_time": "2021-05-12T21:02:40.943745Z",
          "start_time": "2021-05-12T21:02:39.599711Z"
        },
        "id": "iSvtOWXrA2ZN"
      },
      "outputs": [],
      "source": [
        "import numpy as np\n",
        "import tensorflow as tf\n",
        "from tensorflow import keras  #importamos la versión de Keras que viene con tf\n",
        "from sklearn.utils import shuffle"
      ]
    },
    {
      "cell_type": "markdown",
      "metadata": {
        "id": "PZqC2wp3A2ZR"
      },
      "source": [
        "Por las dudas revisemos las versiones:"
      ]
    },
    {
      "cell_type": "code",
      "execution_count": null,
      "metadata": {
        "ExecuteTime": {
          "end_time": "2021-05-12T21:02:40.953812Z",
          "start_time": "2021-05-12T21:02:40.945391Z"
        },
        "id": "EhB4RGY3A2ZR",
        "outputId": "6d1a5579-b826-4077-b0b1-37b614c1b258"
      },
      "outputs": [
        {
          "data": {
            "text/plain": [
              "'2.5.0'"
            ]
          },
          "execution_count": 2,
          "metadata": {},
          "output_type": "execute_result"
        }
      ],
      "source": [
        "tf.__version__"
      ]
    },
    {
      "cell_type": "code",
      "execution_count": null,
      "metadata": {
        "ExecuteTime": {
          "end_time": "2021-05-12T21:02:40.961889Z",
          "start_time": "2021-05-12T21:02:40.955486Z"
        },
        "id": "6_6YrihVA2ZT",
        "outputId": "5c65c308-4c35-4ab3-b273-f3d0608caa3a"
      },
      "outputs": [
        {
          "data": {
            "text/plain": [
              "'2.5.0'"
            ]
          },
          "execution_count": 3,
          "metadata": {},
          "output_type": "execute_result"
        }
      ],
      "source": [
        "keras.__version__"
      ]
    },
    {
      "cell_type": "markdown",
      "metadata": {
        "id": "wJzMmMvqA2ZU"
      },
      "source": [
        "## Los Datos\n",
        "\n",
        "Fashion MNIST está formado por 70 mil imágenes de artículos de vestir categorizados como zapatos, remeras, pantalones etc. 60 mil están en el Train Set y 10 mil en el Test Set.   \n",
        "\n",
        "Cada imagen tiene una resolución de 28x28 pixels en escala de grises (8 bits) y  está guardada como un array de numpy de 28 x 28. Cada elemento del array (matriz en este caso) almacena al valor de gris que le corresponde en la imagen (de 0 a 255 ya que es escala de grises de 8 bits, $2⁸ = 256$).\n",
        "\n",
        "\n",
        "Este dataset puede obtenerse desde el mismo sitio de TensorFlow / Keras ya que es muy utilizado para comparar algoritmos y efectuar pruebas.  \n",
        "\n",
        "El objetivo es clasificar correctamente nuevas imágenes en alguna de estas categorías\n",
        "Es algo más difícil que el original dataset de MNIST que contiene imágenes de números.  \n",
        "\n",
        "Las descripción del DataSet Fashion MNIST es la siguiente:"
      ]
    },
    {
      "cell_type": "markdown",
      "metadata": {
        "ExecuteTime": {
          "end_time": "2021-01-05T20:15:25.425890Z",
          "start_time": "2021-01-05T20:15:25.419772Z"
        },
        "id": "4NYqQuc9A2ZU"
      },
      "source": [
        "Loads the Fashion-MNIST dataset.  \n",
        "This is a dataset of 60,000 28x28 grayscale images of 10 fashion categories, along with a test set of 10,000 images. This dataset can be used as a drop-in replacement for MNIST. The class labels are:  \n",
        "\n",
        "| Label | Description |\n",
        "|:-----:|-------------|\n",
        "|   0   | T-shirt/top |\n",
        "|   1   | Trouser     |\n",
        "|   2   | Pullover    |\n",
        "|   3   | Dress       |\n",
        "|   4   | Coat        |\n",
        "|   5   | Sandal      |\n",
        "|   6   | Shirt       |\n",
        "|   7   | Sneaker     |\n",
        "|   8   | Bag         |\n",
        "|   9   | Ankle boot  |\n",
        "\n",
        "\n",
        "Returns:\n",
        "Tuple of Numpy arrays:  \n",
        "(x_train, y_train), (x_test, y_test).  \n",
        "\n",
        "**x_train, x_test**: uint8 arrays of grayscale image data with shape (num_samples, 28, 28).  \n",
        "\n",
        "**y_train, y_test**: uint8 arrays of labels (integers in range 0-9) with shape (num_samples,).\n",
        "\n",
        "\n",
        "License:\n",
        "The copyright for Fashion-MNIST is held by Zalando SE.\n",
        "Fashion-MNIST is licensed under the [MIT license](\n",
        "https://github.com/zalandoresearch/fashion-mnist/blob/master/LICENSE).\n"
      ]
    },
    {
      "cell_type": "code",
      "execution_count": null,
      "metadata": {
        "id": "RW_qkIExA2ZV"
      },
      "outputs": [],
      "source": []
    },
    {
      "cell_type": "markdown",
      "metadata": {
        "id": "xzTG7TX_A2ZV"
      },
      "source": [
        "Como en el Dataset las clases aparecen con el número (label) que las identifica, vamos a guardar las denominaciones de las mismas porque pueden ser de utilidad más adelante."
      ]
    },
    {
      "cell_type": "code",
      "execution_count": null,
      "metadata": {
        "ExecuteTime": {
          "end_time": "2021-05-12T21:02:40.966474Z",
          "start_time": "2021-05-12T21:02:40.963691Z"
        },
        "id": "rBoMm_9mA2ZW"
      },
      "outputs": [],
      "source": [
        "y_clases=['T-shirt/top','Trouser', 'Pullover', 'Dress','Coat', 'Sandal',  'Shirt', 'Sneaker', 'Bag', 'Ankle boot']"
      ]
    },
    {
      "cell_type": "code",
      "execution_count": null,
      "metadata": {
        "ExecuteTime": {
          "end_time": "2021-05-12T21:02:40.970691Z",
          "start_time": "2021-05-12T21:02:40.968318Z"
        },
        "id": "1thuncL7A2ZW"
      },
      "outputs": [],
      "source": [
        "# La primera vez, descomentar el siguiente código que bajará los datos desde el sitio de Google\n",
        "# Más adelante lo guardaremos en nuestra máquina local, así que ya no será necesario correrlo nuevamente\n",
        "\n",
        "#fashion_mnist = keras.datasets.fashion_mnist\n",
        "#(X_train, y_train), (X_test, y_test) = fashion_mnist.load_data()"
      ]
    },
    {
      "cell_type": "markdown",
      "metadata": {
        "id": "TPDWVCVCA2ZX"
      },
      "source": [
        "### Guardamos los datos originales para uso posterior:  \n",
        "\n",
        "Los datasets que hemos obtenido son arrays de numpy.\n",
        "Como nuestras conexiones suelen ser más lentas que las del resto del mundo ... vamos a guardar estos datos en nuestra máquina local para usarlos posteriormente"
      ]
    },
    {
      "cell_type": "code",
      "execution_count": null,
      "metadata": {
        "ExecuteTime": {
          "end_time": "2021-05-12T21:02:40.974754Z",
          "start_time": "2021-05-12T21:02:40.971870Z"
        },
        "id": "sA-Zjhz6A2ZX"
      },
      "outputs": [],
      "source": [
        "# La primera vez descomentar este código que es para guardar los datos de Fashion MNIST en nuestra máquina local\n",
        "# debe tener creada una carpeta data/ en el directorio de este archivo.\n",
        "# No olvide que por defecto numpy agregará la extensión .npy a a cada uno de estos archivos\n",
        "\n",
        "#np.save('data/X_train', X_train)\n",
        "#np.save('data/y_train', y_train)\n",
        "#np.save('data/X_test', X_test)\n",
        "#np.save('data/y_test', y_test)"
      ]
    },
    {
      "cell_type": "markdown",
      "metadata": {
        "ExecuteTime": {
          "end_time": "2021-01-05T20:13:47.114432Z",
          "start_time": "2021-01-05T20:13:47.112566Z"
        },
        "id": "bHRbO1ZxA2ZX"
      },
      "source": [
        "### Cargamos los datos desde nuestra máquina"
      ]
    },
    {
      "cell_type": "code",
      "execution_count": null,
      "metadata": {
        "ExecuteTime": {
          "end_time": "2021-05-12T21:02:41.152536Z",
          "start_time": "2021-05-12T21:02:40.976263Z"
        },
        "id": "AmnWCrKhA2ZY"
      },
      "outputs": [],
      "source": [
        "X_train=np.load('data/X_train.npy')\n",
        "y_train=np.load('data/y_train.npy')\n",
        "X_test=np.load('data/X_test.npy')\n",
        "y_test=np.load('data/y_test.npy')\n"
      ]
    },
    {
      "cell_type": "code",
      "execution_count": null,
      "metadata": {
        "ExecuteTime": {
          "end_time": "2021-05-12T21:02:41.157494Z",
          "start_time": "2021-05-12T21:02:41.154405Z"
        },
        "id": "yxoE_pbtA2ZY",
        "outputId": "6cd50161-ea31-47b6-93c1-746c777b98ed"
      },
      "outputs": [
        {
          "data": {
            "text/plain": [
              "(60000, 28, 28)"
            ]
          },
          "execution_count": 8,
          "metadata": {},
          "output_type": "execute_result"
        }
      ],
      "source": [
        "X_train.shape"
      ]
    },
    {
      "cell_type": "code",
      "execution_count": null,
      "metadata": {
        "ExecuteTime": {
          "end_time": "2021-05-12T21:02:41.166254Z",
          "start_time": "2021-05-12T21:02:41.159738Z"
        },
        "id": "jmHxtO7OA2ZZ",
        "outputId": "3f7a910e-536c-488d-ad2a-6bdcb4cafbd7"
      },
      "outputs": [
        {
          "data": {
            "text/plain": [
              "(10000, 28, 28)"
            ]
          },
          "execution_count": 9,
          "metadata": {},
          "output_type": "execute_result"
        }
      ],
      "source": [
        "X_test.shape"
      ]
    },
    {
      "cell_type": "markdown",
      "metadata": {
        "id": "9j05XzhGA2Za"
      },
      "source": [
        "### Distribucióń de las clases de y"
      ]
    },
    {
      "cell_type": "code",
      "execution_count": null,
      "metadata": {
        "ExecuteTime": {
          "end_time": "2021-05-12T21:02:41.171915Z",
          "start_time": "2021-05-12T21:02:41.168280Z"
        },
        "id": "VXUMRP10A2Za",
        "outputId": "deb19217-57fb-4111-c042-426ca896af60"
      },
      "outputs": [
        {
          "data": {
            "text/plain": [
              "(60000,)"
            ]
          },
          "execution_count": 10,
          "metadata": {},
          "output_type": "execute_result"
        }
      ],
      "source": [
        "y_train.shape"
      ]
    },
    {
      "cell_type": "code",
      "execution_count": null,
      "metadata": {
        "ExecuteTime": {
          "end_time": "2021-05-12T21:02:41.177257Z",
          "start_time": "2021-05-12T21:02:41.173510Z"
        },
        "id": "mNlmHr5HA2Za",
        "outputId": "3d0a7a15-50b4-4ded-e34e-3a0ddbfbe156"
      },
      "outputs": [
        {
          "data": {
            "text/plain": [
              "(10000,)"
            ]
          },
          "execution_count": 11,
          "metadata": {},
          "output_type": "execute_result"
        }
      ],
      "source": [
        "y_test.shape"
      ]
    },
    {
      "cell_type": "markdown",
      "metadata": {
        "id": "dRlwsxTIA2Zb"
      },
      "source": [
        "Los valores de y son los siguientes: (acá es donde extraño a Pandas ...)"
      ]
    },
    {
      "cell_type": "code",
      "execution_count": null,
      "metadata": {
        "ExecuteTime": {
          "end_time": "2021-05-12T21:02:41.185786Z",
          "start_time": "2021-05-12T21:02:41.179086Z"
        },
        "id": "YOrEymACA2Zb",
        "outputId": "5e1a16ec-f368-4c8b-d3e4-be0ce248f3b7"
      },
      "outputs": [
        {
          "data": {
            "text/plain": [
              "array([0, 1, 2, 3, 4, 5, 6, 7, 8, 9], dtype=uint8)"
            ]
          },
          "execution_count": 12,
          "metadata": {},
          "output_type": "execute_result"
        }
      ],
      "source": [
        "np.unique(y_train)"
      ]
    },
    {
      "cell_type": "markdown",
      "metadata": {
        "id": "2gHyZf2aA2Zc"
      },
      "source": [
        "y las cantidades de cada uno de ellos, es decir sus frecuencias:"
      ]
    },
    {
      "cell_type": "code",
      "execution_count": null,
      "metadata": {
        "ExecuteTime": {
          "end_time": "2021-05-12T21:02:41.194666Z",
          "start_time": "2021-05-12T21:02:41.187709Z"
        },
        "id": "bAZyrrgRA2Zc",
        "outputId": "bb182aa9-78ea-4858-ab9b-e402e3a77479"
      },
      "outputs": [
        {
          "data": {
            "text/plain": [
              "(array([0, 1, 2, 3, 4, 5, 6, 7, 8, 9], dtype=uint8),\n",
              " array([6000, 6000, 6000, 6000, 6000, 6000, 6000, 6000, 6000, 6000],\n",
              "       dtype=int64))"
            ]
          },
          "execution_count": 13,
          "metadata": {},
          "output_type": "execute_result"
        }
      ],
      "source": [
        "np.unique(y_train, return_counts=True)"
      ]
    },
    {
      "cell_type": "markdown",
      "metadata": {
        "id": "zgUS0qFNA2Zd"
      },
      "source": [
        "Como podemos ver hay un equilibrio en las cantidades de casos para cada clase."
      ]
    },
    {
      "cell_type": "markdown",
      "metadata": {
        "id": "nE7D7Na1A2Zd"
      },
      "source": [
        "### Visualización de los datos"
      ]
    },
    {
      "cell_type": "markdown",
      "metadata": {
        "id": "gcsjeWupA2Ze"
      },
      "source": [
        "Cuando trabajamos con imágenes es irresistible la tentación de visualizarlas. En este sentido matplotib es una herramienta muy útil ya que nos permite graficar imágenes a partir de sus valores ubicados como array de numpy, una opción muy poderosa!.   \n",
        "\n",
        "Documentación:  https://matplotlib.org/3.3.3/api/_as_gen/matplotlib.pyplot.imshow.html\n",
        "\n",
        "Veamos la primera de las imágenes:"
      ]
    },
    {
      "cell_type": "code",
      "execution_count": null,
      "metadata": {
        "ExecuteTime": {
          "end_time": "2021-05-12T21:02:41.202194Z",
          "start_time": "2021-05-12T21:02:41.196259Z"
        },
        "id": "5Iq3jv_TA2Ze",
        "outputId": "af804471-0b9c-41fc-9344-01d5ba13089c"
      },
      "outputs": [
        {
          "data": {
            "text/plain": [
              "array([[  0,   0,   0,   0,   0,   0,   0,   0,   0,   0,   0,   0,   0,\n",
              "          0,   0,   0,   0,   0,   0,   0,   0,   0,   0,   0,   0,   0,\n",
              "          0,   0],\n",
              "       [  0,   0,   0,   0,   0,   0,   0,   0,   0,   0,   0,   0,   0,\n",
              "          0,   0,   0,   0,   0,   0,   0,   0,   0,   0,   0,   0,   0,\n",
              "          0,   0],\n",
              "       [  0,   0,   0,   0,   0,   0,   0,   0,   0,   0,   0,   0,   0,\n",
              "          0,   0,   0,   0,   0,   0,   0,   0,   0,   0,   0,   0,   0,\n",
              "          0,   0],\n",
              "       [  0,   0,   0,   0,   0,   0,   0,   0,   0,   0,   0,   0,   1,\n",
              "          0,   0,  13,  73,   0,   0,   1,   4,   0,   0,   0,   0,   1,\n",
              "          1,   0],\n",
              "       [  0,   0,   0,   0,   0,   0,   0,   0,   0,   0,   0,   0,   3,\n",
              "          0,  36, 136, 127,  62,  54,   0,   0,   0,   1,   3,   4,   0,\n",
              "          0,   3],\n",
              "       [  0,   0,   0,   0,   0,   0,   0,   0,   0,   0,   0,   0,   6,\n",
              "          0, 102, 204, 176, 134, 144, 123,  23,   0,   0,   0,   0,  12,\n",
              "         10,   0],\n",
              "       [  0,   0,   0,   0,   0,   0,   0,   0,   0,   0,   0,   0,   0,\n",
              "          0, 155, 236, 207, 178, 107, 156, 161, 109,  64,  23,  77, 130,\n",
              "         72,  15],\n",
              "       [  0,   0,   0,   0,   0,   0,   0,   0,   0,   0,   0,   1,   0,\n",
              "         69, 207, 223, 218, 216, 216, 163, 127, 121, 122, 146, 141,  88,\n",
              "        172,  66],\n",
              "       [  0,   0,   0,   0,   0,   0,   0,   0,   0,   1,   1,   1,   0,\n",
              "        200, 232, 232, 233, 229, 223, 223, 215, 213, 164, 127, 123, 196,\n",
              "        229,   0],\n",
              "       [  0,   0,   0,   0,   0,   0,   0,   0,   0,   0,   0,   0,   0,\n",
              "        183, 225, 216, 223, 228, 235, 227, 224, 222, 224, 221, 223, 245,\n",
              "        173,   0],\n",
              "       [  0,   0,   0,   0,   0,   0,   0,   0,   0,   0,   0,   0,   0,\n",
              "        193, 228, 218, 213, 198, 180, 212, 210, 211, 213, 223, 220, 243,\n",
              "        202,   0],\n",
              "       [  0,   0,   0,   0,   0,   0,   0,   0,   0,   1,   3,   0,  12,\n",
              "        219, 220, 212, 218, 192, 169, 227, 208, 218, 224, 212, 226, 197,\n",
              "        209,  52],\n",
              "       [  0,   0,   0,   0,   0,   0,   0,   0,   0,   0,   6,   0,  99,\n",
              "        244, 222, 220, 218, 203, 198, 221, 215, 213, 222, 220, 245, 119,\n",
              "        167,  56],\n",
              "       [  0,   0,   0,   0,   0,   0,   0,   0,   0,   4,   0,   0,  55,\n",
              "        236, 228, 230, 228, 240, 232, 213, 218, 223, 234, 217, 217, 209,\n",
              "         92,   0],\n",
              "       [  0,   0,   1,   4,   6,   7,   2,   0,   0,   0,   0,   0, 237,\n",
              "        226, 217, 223, 222, 219, 222, 221, 216, 223, 229, 215, 218, 255,\n",
              "         77,   0],\n",
              "       [  0,   3,   0,   0,   0,   0,   0,   0,   0,  62, 145, 204, 228,\n",
              "        207, 213, 221, 218, 208, 211, 218, 224, 223, 219, 215, 224, 244,\n",
              "        159,   0],\n",
              "       [  0,   0,   0,   0,  18,  44,  82, 107, 189, 228, 220, 222, 217,\n",
              "        226, 200, 205, 211, 230, 224, 234, 176, 188, 250, 248, 233, 238,\n",
              "        215,   0],\n",
              "       [  0,  57, 187, 208, 224, 221, 224, 208, 204, 214, 208, 209, 200,\n",
              "        159, 245, 193, 206, 223, 255, 255, 221, 234, 221, 211, 220, 232,\n",
              "        246,   0],\n",
              "       [  3, 202, 228, 224, 221, 211, 211, 214, 205, 205, 205, 220, 240,\n",
              "         80, 150, 255, 229, 221, 188, 154, 191, 210, 204, 209, 222, 228,\n",
              "        225,   0],\n",
              "       [ 98, 233, 198, 210, 222, 229, 229, 234, 249, 220, 194, 215, 217,\n",
              "        241,  65,  73, 106, 117, 168, 219, 221, 215, 217, 223, 223, 224,\n",
              "        229,  29],\n",
              "       [ 75, 204, 212, 204, 193, 205, 211, 225, 216, 185, 197, 206, 198,\n",
              "        213, 240, 195, 227, 245, 239, 223, 218, 212, 209, 222, 220, 221,\n",
              "        230,  67],\n",
              "       [ 48, 203, 183, 194, 213, 197, 185, 190, 194, 192, 202, 214, 219,\n",
              "        221, 220, 236, 225, 216, 199, 206, 186, 181, 177, 172, 181, 205,\n",
              "        206, 115],\n",
              "       [  0, 122, 219, 193, 179, 171, 183, 196, 204, 210, 213, 207, 211,\n",
              "        210, 200, 196, 194, 191, 195, 191, 198, 192, 176, 156, 167, 177,\n",
              "        210,  92],\n",
              "       [  0,   0,  74, 189, 212, 191, 175, 172, 175, 181, 185, 188, 189,\n",
              "        188, 193, 198, 204, 209, 210, 210, 211, 188, 188, 194, 192, 216,\n",
              "        170,   0],\n",
              "       [  2,   0,   0,   0,  66, 200, 222, 237, 239, 242, 246, 243, 244,\n",
              "        221, 220, 193, 191, 179, 182, 182, 181, 176, 166, 168,  99,  58,\n",
              "          0,   0],\n",
              "       [  0,   0,   0,   0,   0,   0,   0,  40,  61,  44,  72,  41,  35,\n",
              "          0,   0,   0,   0,   0,   0,   0,   0,   0,   0,   0,   0,   0,\n",
              "          0,   0],\n",
              "       [  0,   0,   0,   0,   0,   0,   0,   0,   0,   0,   0,   0,   0,\n",
              "          0,   0,   0,   0,   0,   0,   0,   0,   0,   0,   0,   0,   0,\n",
              "          0,   0],\n",
              "       [  0,   0,   0,   0,   0,   0,   0,   0,   0,   0,   0,   0,   0,\n",
              "          0,   0,   0,   0,   0,   0,   0,   0,   0,   0,   0,   0,   0,\n",
              "          0,   0]], dtype=uint8)"
            ]
          },
          "execution_count": 14,
          "metadata": {},
          "output_type": "execute_result"
        }
      ],
      "source": [
        "X_train[0]"
      ]
    },
    {
      "cell_type": "markdown",
      "metadata": {
        "id": "kiNDF7PoA2Ze"
      },
      "source": [
        "\n"
      ]
    },
    {
      "cell_type": "code",
      "execution_count": null,
      "metadata": {
        "ExecuteTime": {
          "end_time": "2021-05-12T21:02:41.397011Z",
          "start_time": "2021-05-12T21:02:41.203528Z"
        },
        "id": "rcMcUcBNA2Ze"
      },
      "outputs": [],
      "source": [
        "import matplotlib.pyplot as plt\n",
        "\n",
        "# info sobre los mapas de color cmap: https://matplotlib.org/3.3.3/tutorials/colors/colormaps.html"
      ]
    },
    {
      "cell_type": "code",
      "execution_count": null,
      "metadata": {
        "ExecuteTime": {
          "end_time": "2021-05-12T22:45:00.714717Z",
          "start_time": "2021-05-12T22:45:00.624127Z"
        },
        "id": "Z3W-70DSA2Zf",
        "outputId": "13b5687d-557f-4744-b3ec-f2044079cf7b"
      },
      "outputs": [
        {
          "data": {
            "image/png": "[encoded data removed]",
            "text/plain": [
              "<Figure size 108x108 with 1 Axes>"
            ]
          },
          "metadata": {
            "needs_background": "light"
          },
          "output_type": "display_data"
        },
        {
          "data": {
            "text/plain": [
              "'Ankle boot'"
            ]
          },
          "execution_count": 16,
          "metadata": {},
          "output_type": "execute_result"
        }
      ],
      "source": [
        "imagen=0   # puede cambiar el número\n",
        "\n",
        "plt.figure(figsize = (1.5,1.5))\n",
        "plt.imshow(X_train[imagen], cmap='binary', vmin=0, vmax=255)\n",
        "plt.show()\n",
        "\n",
        "# Para obtener el nombre de la clase:\n",
        "y_clases[y_train[imagen]]"
      ]
    },
    {
      "cell_type": "markdown",
      "metadata": {
        "id": "SH4c2N-kA2Zf"
      },
      "source": [
        "También podemos hacer algo un poco más elegante usando matplotlib, cuestión de investigarlo un poco ..."
      ]
    },
    {
      "cell_type": "code",
      "execution_count": null,
      "metadata": {
        "ExecuteTime": {
          "end_time": "2021-05-12T22:18:26.570741Z",
          "start_time": "2021-05-12T22:18:24.966159Z"
        },
        "id": "1pHd4zXoA2Zg",
        "outputId": "ee3087b6-02b2-4260-f5cf-f3ff51265ee0"
      },
      "outputs": [
        {
          "data": {
            "image/png": "[encoded data removed]",
            "text/plain": [
              "<Figure size 720x720 with 24 Axes>"
            ]
          },
          "metadata": {
            "needs_background": "light"
          },
          "output_type": "display_data"
        }
      ],
      "source": [
        "pos_inicial=1000             # Seleccionar a partir de qué imagen queremos ver ésa y las  23 imágenes siguientes\n",
        "\n",
        "plt.figure(figsize = (10,10))               # tamaño de todo el plot\n",
        "plt.subplots_adjust(wspace=0.3, hspace=0.3) # para ajustar los espaciados entre cada subplot, como % del total\n",
        "\n",
        "for i in range(0,24):\n",
        "    # cargamos la imagen en cada subplot con imshow()\n",
        "    plt.subplot(4,6,i+1)\n",
        "    plt.imshow(X_train[pos_inicial+i], cmap='binary', vmin=0, vmax=255)\n",
        "    plt.title(y_clases[y_train[pos_inicial+i]])         # obtenemos la clase desde y_clases y la ponemos como título\n",
        "\n",
        "plt.show()\n"
      ]
    },
    {
      "cell_type": "markdown",
      "metadata": {
        "id": "NGHYCVj2A2Zg"
      },
      "source": [
        "### Validation Train y Validation Test\n",
        "\n",
        "Como no nos proveen del conjunto de validación los crearemos nosotros. Como sabemos que los datos están desordenados no los mezclaremos, sino sería conveniente hacer un shuffle.\n",
        "\n",
        "Tomaremos unas 5 mil imágenes para crear el validation set."
      ]
    },
    {
      "cell_type": "code",
      "execution_count": null,
      "metadata": {
        "id": "Udui-HONA2Zg"
      },
      "outputs": [],
      "source": [
        "#Si se hace una mezcla del dataset del train\n",
        "X_train, y_train = shuffle(X_train, y_train, random_state= 123)"
      ]
    },
    {
      "cell_type": "code",
      "execution_count": null,
      "metadata": {
        "ExecuteTime": {
          "end_time": "2021-05-12T21:02:42.768282Z",
          "start_time": "2021-05-12T21:02:42.765596Z"
        },
        "id": "M33mgRfDA2Zg"
      },
      "outputs": [],
      "source": [
        "X_val_test=X_train[:5000]\n",
        "X_val_train=X_train[5000:]\n",
        "\n",
        "y_val_test=y_train[:5000]\n",
        "y_val_train=y_train[5000:]\n"
      ]
    },
    {
      "cell_type": "markdown",
      "metadata": {
        "id": "ib6jaUMcA2Zh"
      },
      "source": [
        "## Modelo"
      ]
    },
    {
      "cell_type": "markdown",
      "metadata": {
        "ExecuteTime": {
          "end_time": "2021-01-05T21:24:22.890500Z",
          "start_time": "2021-01-05T21:24:22.888041Z"
        },
        "id": "0AQt31qZA2Zl"
      },
      "source": [
        "### Arquitectura de la DNN\n",
        "\n",
        "- Función de **Activación de las hidden layers**: vamos con **ReLu** que es la \"estrella\" en la actualidad.\n",
        "\n",
        "- Función de **Activación de la capa de salida**: en nuestro caso tenemos una única variable de salida, pero que puede tomar más de 2 valores, de hecho 10 valores, necesitaremos 10 neuronas en la capa de salida y una sugerencia es utilizar **softmax**, que nos dará la probabilidad de que sea cada una de las clases, y si sumáramos todas las probabilidades obtenidas para una observación, el resultado sería 1."
      ]
    },
    {
      "cell_type": "code",
      "execution_count": null,
      "metadata": {
        "ExecuteTime": {
          "end_time": "2021-05-12T21:02:43.320513Z",
          "start_time": "2021-05-12T21:02:42.816671Z"
        },
        "scrolled": false,
        "id": "-F601VJlA2Zm"
      },
      "outputs": [],
      "source": [
        "model = keras.models.Sequential([keras.layers.Flatten(input_shape=[28, 28]),\n",
        "                                keras.layers.Dense(300, activation=\"relu\"),\n",
        "                                keras.layers.Dense(100, activation=\"relu\"),\n",
        "                                keras.layers.Dense(10, activation=\"softmax\")\n",
        "                                ])"
      ]
    },
    {
      "cell_type": "markdown",
      "metadata": {
        "id": "VWw4ZTUfA2Zm"
      },
      "source": [
        "Qué es __keras.layers.Flatten__?"
      ]
    },
    {
      "cell_type": "code",
      "execution_count": null,
      "metadata": {
        "ExecuteTime": {
          "end_time": "2021-05-12T21:02:43.327206Z",
          "start_time": "2021-05-12T21:02:43.322002Z"
        },
        "id": "UEWOLc_EA2Zm",
        "outputId": "98158cf9-53e4-4b39-f7fa-624f956b7eaa"
      },
      "outputs": [
        {
          "name": "stdout",
          "output_type": "stream",
          "text": [
            "Model: \"sequential\"\n",
            "_________________________________________________________________\n",
            "Layer (type)                 Output Shape              Param #   \n",
            "=================================================================\n",
            "flatten (Flatten)            (None, 784)               0         \n",
            "_________________________________________________________________\n",
            "dense (Dense)                (None, 300)               235500    \n",
            "_________________________________________________________________\n",
            "dense_1 (Dense)              (None, 100)               30100     \n",
            "_________________________________________________________________\n",
            "dense_2 (Dense)              (None, 10)                1010      \n",
            "=================================================================\n",
            "Total params: 266,610\n",
            "Trainable params: 266,610\n",
            "Non-trainable params: 0\n",
            "_________________________________________________________________\n"
          ]
        }
      ],
      "source": [
        "model.summary()"
      ]
    },
    {
      "cell_type": "markdown",
      "metadata": {
        "id": "L3b0f1vuA2Zm"
      },
      "source": [
        "### Compilación del modelo\n",
        "\n",
        "- **Loss Function J**: En nuestro caso tenemos una única variable de salida, pero que puede tomar más de 2 valores (en este caso cada uno de los 10 tipos de imagen), entonces una sugerencia es utilizar para loss la opción **\"sparse_categorical_crossentropy\"**"
      ]
    },
    {
      "cell_type": "code",
      "execution_count": null,
      "metadata": {
        "ExecuteTime": {
          "end_time": "2021-05-12T21:02:43.340676Z",
          "start_time": "2021-05-12T21:02:43.328546Z"
        },
        "id": "9DmcAdSGA2Zn"
      },
      "outputs": [],
      "source": [
        "model.compile(loss=\"sparse_categorical_crossentropy\",\n",
        "                optimizer=\"sgd\",\n",
        "                metrics=[\"accuracy\"])"
      ]
    },
    {
      "cell_type": "markdown",
      "metadata": {
        "id": "x618f6RsA2Zn"
      },
      "source": [
        "### Entrenamiento del modelo"
      ]
    },
    {
      "cell_type": "code",
      "execution_count": null,
      "metadata": {
        "ExecuteTime": {
          "end_time": "2021-05-12T21:03:07.506140Z",
          "start_time": "2021-05-12T21:02:43.343774Z"
        },
        "id": "W5hzPSweA2Zn",
        "outputId": "c2e560e0-a42a-47a0-c109-3d30cc6477a8"
      },
      "outputs": [
        {
          "name": "stdout",
          "output_type": "stream",
          "text": [
            "Epoch 1/10\n",
            "1719/1719 [==============================] - 3s 2ms/step - loss: 31460.6074 - accuracy: 0.0986 - val_loss: 2.3194 - val_accuracy: 0.1024\n",
            "Epoch 2/10\n",
            "1719/1719 [==============================] - 3s 2ms/step - loss: 2.3027 - accuracy: 0.0994 - val_loss: 2.3194 - val_accuracy: 0.0976\n",
            "Epoch 3/10\n",
            "1719/1719 [==============================] - 3s 1ms/step - loss: 2.3027 - accuracy: 0.0975 - val_loss: 2.3195 - val_accuracy: 0.0986\n",
            "Epoch 4/10\n",
            "1719/1719 [==============================] - 3s 1ms/step - loss: 2.3027 - accuracy: 0.0972 - val_loss: 2.3194 - val_accuracy: 0.0980\n",
            "Epoch 5/10\n",
            "1719/1719 [==============================] - 3s 2ms/step - loss: 2.3027 - accuracy: 0.1001 - val_loss: 2.3194 - val_accuracy: 0.0976\n",
            "Epoch 6/10\n",
            "1719/1719 [==============================] - 2s 1ms/step - loss: 2.3027 - accuracy: 0.0975 - val_loss: 2.3193 - val_accuracy: 0.0914\n",
            "Epoch 7/10\n",
            "1719/1719 [==============================] - 3s 1ms/step - loss: 2.3027 - accuracy: 0.0974 - val_loss: 2.3195 - val_accuracy: 0.0914\n",
            "Epoch 8/10\n",
            "1719/1719 [==============================] - 2s 1ms/step - loss: 2.3027 - accuracy: 0.0960 - val_loss: 2.3195 - val_accuracy: 0.0914\n",
            "Epoch 9/10\n",
            "1719/1719 [==============================] - 2s 1ms/step - loss: 2.3027 - accuracy: 0.0989 - val_loss: 2.3193 - val_accuracy: 0.0976\n",
            "Epoch 10/10\n",
            "1719/1719 [==============================] - 3s 2ms/step - loss: 2.3027 - accuracy: 0.1002 - val_loss: 2.3193 - val_accuracy: 0.0986\n"
          ]
        }
      ],
      "source": [
        "history = model.fit(X_val_train, y_val_train, epochs=10,\n",
        "                    validation_data=(X_val_test, y_val_test))"
      ]
    },
    {
      "cell_type": "markdown",
      "metadata": {
        "id": "A-V4hQ4yA2Zn"
      },
      "source": [
        "Qué resultados tan decepcionantes!!! De seguro con cualquier otro algoritmo de Machine Learning *Clásico* hubieramos podido obtener una mejor Accuracy!\n",
        "\n",
        "Veamos las learning curves:"
      ]
    },
    {
      "cell_type": "code",
      "execution_count": null,
      "metadata": {
        "id": "5oAv-Hm8A2Zn"
      },
      "outputs": [],
      "source": []
    },
    {
      "cell_type": "code",
      "execution_count": null,
      "metadata": {
        "ExecuteTime": {
          "end_time": "2021-05-12T21:14:27.469048Z",
          "start_time": "2021-05-12T21:14:27.303873Z"
        },
        "id": "S6HAD2ZAA2Zn",
        "outputId": "dad6d41f-4433-4a2a-c33d-823589237402"
      },
      "outputs": [
        {
          "data": {
            "image/png": "[encoded data removed]",
            "text/plain": [
              "<Figure size 864x576 with 1 Axes>"
            ]
          },
          "metadata": {
            "needs_background": "light"
          },
          "output_type": "display_data"
        }
      ],
      "source": [
        "import pandas as pd\n",
        "import matplotlib.pyplot as plt\n",
        "\n",
        "df_historial=pd.DataFrame(model.history.history)\n",
        "df_historial[['loss','val_loss','accuracy', 'val_accuracy']].plot(figsize=(12, 8),\n",
        "                                                                  grid=True,\n",
        "                                                                  title=\"Learning Curves\",\n",
        "                                                                  ylim=(0,3));"
      ]
    },
    {
      "cell_type": "markdown",
      "metadata": {
        "id": "XkuJ3C2UA2Zo"
      },
      "source": [
        "\n",
        "Dónde está el problema?   \n",
        "\n",
        "- underfitting? Parecería que sí.\n",
        "\n",
        "Pero antes:\n",
        "\n",
        "En nuestro caso hemos usado SGD (Stochastic Gradient Descent) como método de optimización, es posible que el pobre haya quedado atrapado en algún mínimo local que no es el menor valor posible, también es posible que la elección al azar de los valores para los parámetros $w_i$ no haya sido muy afortunada, también es posible que SGD esté funcionando mal porque no hemos estandarizado los valores de entrada ... recordemos que la escala de grises está codificada como un valor entre 0 y 255 ... **generalmente los algoritmos están diseñados para funcionar con datos estandarizados, por ejemplo entre 0 y 1 o entre -1 y 1**.  \n",
        "\n",
        "Trabajar con imágenes a veces facilita las cosas, podemos hacer una estandarización entre 0 y 1 simplemente dividiendido en 255 los valores de X!  \n",
        "\n",
        "\n",
        "\n",
        "Probemos:  \n"
      ]
    },
    {
      "cell_type": "code",
      "execution_count": null,
      "metadata": {
        "ExecuteTime": {
          "end_time": "2021-05-12T21:03:07.603405Z",
          "start_time": "2021-05-12T21:03:07.508243Z"
        },
        "id": "NC-RSrR_A2Zo"
      },
      "outputs": [],
      "source": [
        "X_val_train1=X_val_train/255\n",
        "X_val_test1=X_val_test/255\n",
        "\n",
        "X_test1=X_test/255"
      ]
    },
    {
      "cell_type": "code",
      "execution_count": null,
      "metadata": {
        "ExecuteTime": {
          "end_time": "2021-05-12T21:03:07.631197Z",
          "start_time": "2021-05-12T21:03:07.604683Z"
        },
        "id": "_gwo0V0eA2Zo",
        "outputId": "d93a836d-617e-4ad2-8ab9-5c3562cfb401"
      },
      "outputs": [
        {
          "data": {
            "text/plain": [
              "1.0"
            ]
          },
          "execution_count": 29,
          "metadata": {},
          "output_type": "execute_result"
        }
      ],
      "source": [
        "np.max(X_val_train1)"
      ]
    },
    {
      "cell_type": "markdown",
      "metadata": {
        "ExecuteTime": {
          "end_time": "2021-01-05T21:40:17.490789Z",
          "start_time": "2021-01-05T21:40:17.465266Z"
        },
        "id": "K03SXCjSA2Zo"
      },
      "source": [
        "Ahora probemos de nuevo:"
      ]
    },
    {
      "cell_type": "code",
      "execution_count": null,
      "metadata": {
        "ExecuteTime": {
          "end_time": "2021-05-12T21:19:03.474358Z",
          "start_time": "2021-05-12T21:19:03.424449Z"
        },
        "id": "sekQ4oo8A2Zp"
      },
      "outputs": [],
      "source": [
        "model1 = keras.models.Sequential([\n",
        "    keras.layers.Flatten(input_shape=[28, 28]),\n",
        "    keras.layers.Dense(300, activation=\"relu\"),\n",
        "    keras.layers.Dense(100, activation=\"relu\"),\n",
        "    keras.layers.Dense(10, activation=\"softmax\")\n",
        "])"
      ]
    },
    {
      "cell_type": "code",
      "execution_count": null,
      "metadata": {
        "ExecuteTime": {
          "end_time": "2021-05-12T21:19:05.250696Z",
          "start_time": "2021-05-12T21:19:05.241776Z"
        },
        "id": "h5SBqCoJA2Zp"
      },
      "outputs": [],
      "source": [
        "model1.compile(loss=\"sparse_categorical_crossentropy\",\n",
        "                optimizer=\"sgd\",\n",
        "                metrics=[\"accuracy\"])"
      ]
    },
    {
      "cell_type": "code",
      "execution_count": null,
      "metadata": {
        "ExecuteTime": {
          "end_time": "2021-05-12T21:20:22.751598Z",
          "start_time": "2021-05-12T21:19:07.484784Z"
        },
        "scrolled": false,
        "id": "v3XoZJ7RA2Zp",
        "outputId": "964056d8-a043-4241-fdca-41f1fc97ee78"
      },
      "outputs": [
        {
          "name": "stdout",
          "output_type": "stream",
          "text": [
            "Epoch 1/30\n",
            "1719/1719 [==============================] - 3s 2ms/step - loss: 2.3127 - accuracy: 0.1008 - val_loss: 2.3065 - val_accuracy: 0.1024\n",
            "Epoch 2/30\n",
            "1719/1719 [==============================] - 3s 1ms/step - loss: 2.3034 - accuracy: 0.1048 - val_loss: 2.3052 - val_accuracy: 0.0972\n",
            "Epoch 3/30\n",
            "1719/1719 [==============================] - 2s 1ms/step - loss: 2.3010 - accuracy: 0.1107 - val_loss: 2.3048 - val_accuracy: 0.1008\n",
            "Epoch 4/30\n",
            "1719/1719 [==============================] - 3s 2ms/step - loss: 2.2993 - accuracy: 0.1138 - val_loss: 2.3068 - val_accuracy: 0.1018\n",
            "Epoch 5/30\n",
            "1719/1719 [==============================] - 2s 1ms/step - loss: 2.2978 - accuracy: 0.1157 - val_loss: 2.3068 - val_accuracy: 0.0996\n",
            "Epoch 6/30\n",
            "1719/1719 [==============================] - 2s 1ms/step - loss: 2.2965 - accuracy: 0.1173 - val_loss: 2.3076 - val_accuracy: 0.1032\n",
            "Epoch 7/30\n",
            "1719/1719 [==============================] - 3s 2ms/step - loss: 2.2949 - accuracy: 0.1213 - val_loss: 2.3086 - val_accuracy: 0.0952\n",
            "Epoch 8/30\n",
            "1719/1719 [==============================] - 3s 1ms/step - loss: 2.2937 - accuracy: 0.1240 - val_loss: 2.3077 - val_accuracy: 0.1022\n",
            "Epoch 9/30\n",
            "1719/1719 [==============================] - 3s 2ms/step - loss: 2.2920 - accuracy: 0.1265 - val_loss: 2.3082 - val_accuracy: 0.1002\n",
            "Epoch 10/30\n",
            "1719/1719 [==============================] - 3s 2ms/step - loss: 2.2904 - accuracy: 0.1282 - val_loss: 2.3095 - val_accuracy: 0.1040\n",
            "Epoch 11/30\n",
            "1719/1719 [==============================] - 3s 1ms/step - loss: 2.2890 - accuracy: 0.1303 - val_loss: 2.3084 - val_accuracy: 0.1022\n",
            "Epoch 12/30\n",
            "1719/1719 [==============================] - 3s 1ms/step - loss: 2.2873 - accuracy: 0.1315 - val_loss: 2.3085 - val_accuracy: 0.1038\n",
            "Epoch 13/30\n",
            "1719/1719 [==============================] - 3s 2ms/step - loss: 2.2856 - accuracy: 0.1333 - val_loss: 2.3086 - val_accuracy: 0.1024\n",
            "Epoch 14/30\n",
            "1719/1719 [==============================] - 3s 1ms/step - loss: 2.2840 - accuracy: 0.1365 - val_loss: 2.3091 - val_accuracy: 0.1004\n",
            "Epoch 15/30\n",
            "1719/1719 [==============================] - 3s 1ms/step - loss: 2.2821 - accuracy: 0.1401 - val_loss: 2.3106 - val_accuracy: 0.0984\n",
            "Epoch 16/30\n",
            "1719/1719 [==============================] - 3s 2ms/step - loss: 2.2798 - accuracy: 0.1432 - val_loss: 2.3116 - val_accuracy: 0.1020\n",
            "Epoch 17/30\n",
            "1719/1719 [==============================] - 3s 2ms/step - loss: 2.2781 - accuracy: 0.1427 - val_loss: 2.3121 - val_accuracy: 0.1026\n",
            "Epoch 18/30\n",
            "1719/1719 [==============================] - 3s 2ms/step - loss: 2.2761 - accuracy: 0.1443 - val_loss: 2.3125 - val_accuracy: 0.1030\n",
            "Epoch 19/30\n",
            "1719/1719 [==============================] - 3s 2ms/step - loss: 2.2739 - accuracy: 0.1457 - val_loss: 2.3129 - val_accuracy: 0.1028\n",
            "Epoch 20/30\n",
            "1719/1719 [==============================] - 3s 2ms/step - loss: 2.2718 - accuracy: 0.1484 - val_loss: 2.3159 - val_accuracy: 0.1014\n",
            "Epoch 21/30\n",
            "1719/1719 [==============================] - 3s 1ms/step - loss: 2.2694 - accuracy: 0.1507 - val_loss: 2.3159 - val_accuracy: 0.0998\n",
            "Epoch 22/30\n",
            "1719/1719 [==============================] - 3s 2ms/step - loss: 2.2669 - accuracy: 0.1538 - val_loss: 2.3160 - val_accuracy: 0.0976\n",
            "Epoch 23/30\n",
            "1719/1719 [==============================] - 3s 2ms/step - loss: 2.2645 - accuracy: 0.1537 - val_loss: 2.3188 - val_accuracy: 0.0978\n",
            "Epoch 24/30\n",
            "1719/1719 [==============================] - 3s 1ms/step - loss: 2.2619 - accuracy: 0.1548 - val_loss: 2.3209 - val_accuracy: 0.1012\n",
            "Epoch 25/30\n",
            "1719/1719 [==============================] - 3s 2ms/step - loss: 2.2589 - accuracy: 0.1599 - val_loss: 2.3224 - val_accuracy: 0.1028\n",
            "Epoch 26/30\n",
            "1719/1719 [==============================] - 3s 2ms/step - loss: 2.2566 - accuracy: 0.1618 - val_loss: 2.3206 - val_accuracy: 0.1030\n",
            "Epoch 27/30\n",
            "1719/1719 [==============================] - 3s 2ms/step - loss: 2.2535 - accuracy: 0.1649 - val_loss: 2.3225 - val_accuracy: 0.0978\n",
            "Epoch 28/30\n",
            "1719/1719 [==============================] - 3s 2ms/step - loss: 2.2504 - accuracy: 0.1659 - val_loss: 2.3223 - val_accuracy: 0.1018\n",
            "Epoch 29/30\n",
            "1719/1719 [==============================] - 3s 2ms/step - loss: 2.2469 - accuracy: 0.1681 - val_loss: 2.3261 - val_accuracy: 0.0990\n",
            "Epoch 30/30\n",
            "1719/1719 [==============================] - 3s 2ms/step - loss: 2.2436 - accuracy: 0.1694 - val_loss: 2.3234 - val_accuracy: 0.1016\n"
          ]
        },
        {
          "data": {
            "text/plain": [
              "<tensorflow.python.keras.callbacks.History at 0x1ff0588cc08>"
            ]
          },
          "execution_count": 40,
          "metadata": {},
          "output_type": "execute_result"
        }
      ],
      "source": [
        "model1.fit(X_val_train1, y_val_train, epochs=30,\n",
        "                    validation_data=(X_val_test1, y_val_test))"
      ]
    },
    {
      "cell_type": "markdown",
      "metadata": {
        "id": "NjME4zb4A2Zp"
      },
      "source": [
        "Ahora sí hemos obtenido resultados muy buenos, considerando que en las competencias con Fashion MNIST suelen andar por valores cercanos a una accuracy de alrededor de 0.93."
      ]
    },
    {
      "cell_type": "markdown",
      "metadata": {
        "id": "l7wDnKypA2Zq"
      },
      "source": [
        "Cuánto podríamos esperar obtener en el test Set?"
      ]
    },
    {
      "cell_type": "markdown",
      "metadata": {
        "id": "3T6_Xr6UA2Zq"
      },
      "source": [
        "### Learning Curves:"
      ]
    },
    {
      "cell_type": "code",
      "execution_count": null,
      "metadata": {
        "ExecuteTime": {
          "end_time": "2021-05-12T22:41:16.941545Z",
          "start_time": "2021-05-12T22:41:16.747967Z"
        },
        "id": "W2H-k7CiA2Zr",
        "outputId": "6fb0f161-69b5-4aa0-d700-51ae2fc08d0d"
      },
      "outputs": [
        {
          "data": {
            "image/png": "[encoded data removed]",
            "text/plain": [
              "<Figure size 864x576 with 1 Axes>"
            ]
          },
          "metadata": {
            "needs_background": "light"
          },
          "output_type": "display_data"
        }
      ],
      "source": [
        "\n",
        "df_history=pd.DataFrame(model1.history.history)\n",
        "df_history[['loss','val_loss','accuracy', 'val_accuracy']].plot(figsize=(12, 8),grid=True, title=\"Learning Curves\",ylim=(0,1));\n"
      ]
    },
    {
      "cell_type": "code",
      "execution_count": null,
      "metadata": {
        "id": "8WQpIOLeA2Zs"
      },
      "outputs": [],
      "source": []
    },
    {
      "cell_type": "markdown",
      "metadata": {
        "id": "K6TN5geCA2Zs"
      },
      "source": [
        "### Capa de Salida con Softmax:\n",
        "\n",
        "**softmax** nos brinda por resultado 10 probabilidades, una por cada clase,  y por lo tanto elige la mayor como pronóstico para cada observación.  \n",
        "\n",
        "Voy a tomar la primer observación del X_val_train1 y ver qué pronosticó:"
      ]
    },
    {
      "cell_type": "code",
      "execution_count": null,
      "metadata": {
        "ExecuteTime": {
          "end_time": "2021-05-12T21:04:20.513109Z",
          "start_time": "2021-05-12T21:04:20.407734Z"
        },
        "scrolled": false,
        "id": "_F2klJIIA2Zt",
        "outputId": "ce1d313c-03c0-4ee0-d2eb-671314ded200"
      },
      "outputs": [
        {
          "data": {
            "text/plain": [
              "array([[5.0451148e-05, 4.4637684e-07, 4.2772201e-01, 9.0362792e-06,\n",
              "        4.4090435e-01, 8.1497395e-09, 1.3118540e-01, 5.0597282e-09,\n",
              "        1.2830197e-04, 1.1693143e-09]], dtype=float32)"
            ]
          },
          "execution_count": 41,
          "metadata": {},
          "output_type": "execute_result"
        }
      ],
      "source": [
        "model1.predict(X_val_train1[0:1])\n",
        "\n",
        "# nota si uso X_val_train1[0] me da error porque como es un solo resultado, numpy siempre los lleva a la\n",
        "# menor dimensión posible y falla en la capa flatten. Por eso le puse desde 0 a 1 y mantiene la misma estructura\n",
        "# completa con la que fue entrenado."
      ]
    },
    {
      "cell_type": "markdown",
      "metadata": {
        "id": "m7Kd73TYA2Zt"
      },
      "source": [
        "Como podemos ver, tenemos 10 valores, la salida de softmax nos está dando la probabilidad de que pertenezca a cada una de las clases.  \n",
        "\n",
        "Si las sumamos, debería dar 1:"
      ]
    },
    {
      "cell_type": "code",
      "execution_count": null,
      "metadata": {
        "ExecuteTime": {
          "end_time": "2021-05-12T21:04:21.370031Z",
          "start_time": "2021-05-12T21:04:20.514347Z"
        },
        "id": "NX0tMuCHA2Zu",
        "outputId": "573e2ae3-0440-4c79-98e4-e2df9e763c67"
      },
      "outputs": [
        {
          "data": {
            "text/plain": [
              "1.0"
            ]
          },
          "execution_count": 42,
          "metadata": {},
          "output_type": "execute_result"
        }
      ],
      "source": [
        "np.sum(model1.predict(X_val_train1)[0])"
      ]
    },
    {
      "cell_type": "markdown",
      "metadata": {
        "id": "jxLGkkYSA2Zu"
      },
      "source": [
        "Podemos ver que el la mayor probabilidad corresponde a la clase que está en el 5to lugar (0.673) es decir la clase 4 porque su numeración comienza en 0.   \n",
        "\n",
        "Veamos si acertó:"
      ]
    },
    {
      "cell_type": "code",
      "execution_count": null,
      "metadata": {
        "ExecuteTime": {
          "end_time": "2021-05-12T21:04:21.374754Z",
          "start_time": "2021-05-12T21:04:21.371409Z"
        },
        "id": "EdtCWs71A2Zv",
        "outputId": "47a5df0d-711d-432e-9240-bf2851480741"
      },
      "outputs": [
        {
          "data": {
            "text/plain": [
              "4"
            ]
          },
          "execution_count": 43,
          "metadata": {},
          "output_type": "execute_result"
        }
      ],
      "source": [
        "y_val_train[0]"
      ]
    }
  ],
  "metadata": {
    "hide_input": false,
    "kernelspec": {
      "display_name": "Python 3 (ipykernel)",
      "language": "python",
      "name": "python3"
    },
    "language_info": {
      "codemirror_mode": {
        "name": "ipython",
        "version": 3
      },
      "file_extension": ".py",
      "mimetype": "text/x-python",
      "name": "python",
      "nbconvert_exporter": "python",
      "pygments_lexer": "ipython3",
      "version": "3.11.9"
    },
    "toc": {
      "base_numbering": 1,
      "nav_menu": {},
      "number_sections": true,
      "sideBar": true,
      "skip_h1_title": false,
      "title_cell": "Table of Contents",
      "title_sidebar": "Contents",
      "toc_cell": false,
      "toc_position": {
        "height": "calc(100% - 180px)",
        "left": "10px",
        "top": "150px",
        "width": "195px"
      },
      "toc_section_display": true,
      "toc_window_display": true
    },
    "varInspector": {
      "cols": {
        "lenName": 16,
        "lenType": 16,
        "lenVar": 40
      },
      "kernels_config": {
        "python": {
          "delete_cmd_postfix": "",
          "delete_cmd_prefix": "del ",
          "library": "var_list.py",
          "varRefreshCmd": "print(var_dic_list())"
        },
        "r": {
          "delete_cmd_postfix": ") ",
          "delete_cmd_prefix": "rm(",
          "library": "var_list.r",
          "varRefreshCmd": "cat(var_dic_list()) "
        }
      },
      "types_to_exclude": [
        "module",
        "function",
        "builtin_function_or_method",
        "instance",
        "_Feature"
      ],
      "window_display": false
    },
    "colab": {
      "provenance": [],
      "include_colab_link": true
    }
  },
  "nbformat": 4,
  "nbformat_minor": 0
}
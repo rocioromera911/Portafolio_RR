{
  "cells": [
    {
      "cell_type": "markdown",
      "metadata": {
        "id": "view-in-github",
        "colab_type": "text"
      },
      "source": [
        "<a href=\"https://colab.research.google.com/github/rocioromera911/Portafolio_RR/blob/main/Apparel_Classifier.ipynb\" target=\"_parent\"><img src=\"https://colab.research.google.com/assets/colab-badge.svg\" alt=\"Open In Colab\"/></a>"
      ]
    },
    {
      "cell_type": "markdown",
      "metadata": {
        "id": "c2AAsZrF5HTS"
      },
      "source": [
        "# Apparel Classifier - EfficientNetB0 - Colab Notebook\n",
        "Entrena un modelo de clasificación de ropa con máxima precisión usando Transfer Learning."
      ]
    },
    {
      "cell_type": "code",
      "execution_count": null,
      "metadata": {
        "id": "tmvXBLiT5HTV"
      },
      "outputs": [],
      "source": [
        "# ✅ Paso 1: Instalar librerías necesarias\n",
        "!pip install -q tensorflow pandas matplotlib scikit-learn opencv-python"
      ]
    },
    {
      "cell_type": "code",
      "execution_count": null,
      "metadata": {
        "id": "NdxnOS375HTX"
      },
      "outputs": [],
      "source": [
        "# ✅ Paso 2: Imports\n",
        "import numpy as np\n",
        "import pandas as pd\n",
        "import matplotlib.pyplot as plt\n",
        "import os\n",
        "from sklearn.model_selection import train_test_split\n",
        "from tensorflow.keras.preprocessing.image import ImageDataGenerator\n",
        "from tensorflow.keras.applications import EfficientNetB0\n",
        "from tensorflow.keras.models import Model\n",
        "from tensorflow.keras.layers import Dense, GlobalAveragePooling2D, Dropout\n",
        "from tensorflow.keras.optimizers import Adam\n",
        "from tensorflow.keras.callbacks import EarlyStopping, ReduceLROnPlateau"
      ]
    },
    {
      "cell_type": "code",
      "execution_count": null,
      "metadata": {
        "id": "SlYUD4jI5HTX"
      },
      "outputs": [],
      "source": [
        "# ✅ Paso 3: Montar Drive\n",
        "from google.colab import drive\n",
        "drive.mount('/content/drive')"
      ]
    },
    {
      "cell_type": "code",
      "execution_count": null,
      "metadata": {
        "id": "5crWJMvO5HTY"
      },
      "outputs": [],
      "source": [
        "# ✅ Paso 4: Configurar paths\n",
        "base_path = '/content/drive/MyDrive/apparel_dataset'"
      ]
    },
    {
      "cell_type": "code",
      "execution_count": null,
      "metadata": {
        "id": "aGW_zSQA5HTY"
      },
      "outputs": [],
      "source": [
        "# ✅ Paso 5: Preparar datos\n",
        "df = pd.read_csv(os.path.join(base_path, 'train.csv'))\n",
        "train_df, val_df = train_test_split(df, test_size=0.2, stratify=df['label'], random_state=42)"
      ]
    },
    {
      "cell_type": "code",
      "execution_count": null,
      "metadata": {
        "id": "uSMWiacs5HTZ"
      },
      "outputs": [],
      "source": [
        "# ✅ Generadores\n",
        "img_size = 224\n",
        "batch_size = 32\n",
        "epochs = 30\n",
        "train_datagen = ImageDataGenerator(rescale=1./255, rotation_range=25, width_shift_range=0.2, height_shift_range=0.2, zoom_range=0.2, horizontal_flip=True)\n",
        "val_datagen = ImageDataGenerator(rescale=1./255)\n",
        "train_gen = train_datagen.flow_from_dataframe(train_df, directory=os.path.join(base_path, 'train'), x_col='image_id', y_col='label', target_size=(img_size, img_size), class_mode='categorical', batch_size=batch_size)\n",
        "val_gen = val_datagen.flow_from_dataframe(val_df, directory=os.path.join(base_path, 'train'), x_col='image_id', y_col='label', target_size=(img_size, img_size), class_mode='categorical', batch_size=batch_size)"
      ]
    },
    {
      "cell_type": "code",
      "execution_count": null,
      "metadata": {
        "id": "210Z7cJD5HTZ"
      },
      "outputs": [],
      "source": [
        "# ✅ Modelo\n",
        "base_model = EfficientNetB0(weights='imagenet', include_top=False, input_shape=(img_size, img_size, 3))\n",
        "base_model.trainable = False\n",
        "x = GlobalAveragePooling2D()(base_model.output)\n",
        "x = Dropout(0.3)(x)\n",
        "output = Dense(10, activation='softmax')(x)\n",
        "model = Model(inputs=base_model.input, outputs=output)\n",
        "model.compile(optimizer=Adam(1e-4), loss='categorical_crossentropy', metrics=['accuracy'])"
      ]
    },
    {
      "cell_type": "code",
      "execution_count": null,
      "metadata": {
        "id": "mMdbK5ix5HTa"
      },
      "outputs": [],
      "source": [
        "# ✅ Callbacks y entrenamiento\n",
        "callbacks = [EarlyStopping(patience=5, restore_best_weights=True), ReduceLROnPlateau(patience=3, factor=0.5)]\n",
        "history = model.fit(train_gen, validation_data=val_gen, epochs=epochs, callbacks=callbacks)"
      ]
    },
    {
      "cell_type": "code",
      "execution_count": null,
      "metadata": {
        "id": "5H0-flqE5HTa"
      },
      "outputs": [],
      "source": [
        "# ✅ Gráfico\n",
        "plt.plot(history.history['accuracy'], label='Entrenamiento')\n",
        "plt.plot(history.history['val_accuracy'], label='Validación')\n",
        "plt.legend()\n",
        "plt.title('Accuracy')\n",
        "plt.show()"
      ]
    },
    {
      "cell_type": "code",
      "execution_count": null,
      "metadata": {
        "id": "q187x9Tb5HTa"
      },
      "outputs": [],
      "source": [
        "# ✅ Predicciones\n",
        "test_files = os.listdir(os.path.join(base_path, 'test'))\n",
        "test_df = pd.DataFrame({'image_id': test_files})\n",
        "test_datagen = ImageDataGenerator(rescale=1./255)\n",
        "test_gen = test_datagen.flow_from_dataframe(test_df, directory=os.path.join(base_path, 'test'), x_col='image_id', y_col=None, target_size=(img_size, img_size), class_mode=None, batch_size=batch_size, shuffle=False)\n",
        "preds = model.predict(test_gen)\n",
        "labels = np.argmax(preds, axis=1)\n",
        "submission = pd.DataFrame({'Image_ID': test_df['image_id'], 'Label': labels})\n",
        "submission.to_csv('submission.csv', index=False)"
      ]
    }
  ],
  "metadata": {
    "colab": {
      "provenance": [],
      "include_colab_link": true
    },
    "language_info": {
      "name": "python"
    },
    "kernelspec": {
      "name": "python3",
      "display_name": "Python 3"
    }
  },
  "nbformat": 4,
  "nbformat_minor": 0
}
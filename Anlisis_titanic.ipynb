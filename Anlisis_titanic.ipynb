{
  "nbformat": 4,
  "nbformat_minor": 0,
  "metadata": {
    "colab": {
      "provenance": [],
      "toc_visible": true
    },
    "kernelspec": {
      "name": "python3",
      "display_name": "Python 3"
    },
    "language_info": {
      "name": "python"
    }
  },
  "cells": [
    {
      "cell_type": "markdown",
      "source": [
        "## Analisis de los datos"
      ],
      "metadata": {
        "id": "MHfChCXmOWg2"
      }
    },
    {
      "cell_type": "markdown",
      "source": [
        "### DF"
      ],
      "metadata": {
        "id": "rmznM_JwMkIQ"
      }
    },
    {
      "cell_type": "code",
      "execution_count": null,
      "metadata": {
        "colab": {
          "base_uri": "https://localhost:8080/"
        },
        "id": "hFuQ-XQkY4FY",
        "outputId": "340dda2c-93fc-4621-972e-9e03d5d1cee6"
      },
      "outputs": [
        {
          "output_type": "stream",
          "name": "stdout",
          "text": [
            "Drive already mounted at /content/drive; to attempt to forcibly remount, call drive.mount(\"/content/drive\", force_remount=True).\n"
          ]
        }
      ],
      "source": [
        "from google.colab import drive\n",
        "drive.mount('/content/drive')"
      ]
    },
    {
      "cell_type": "code",
      "source": [
        "import pandas as pd\n",
        "import numpy as np"
      ],
      "metadata": {
        "id": "WbZK9G4oH7Z7"
      },
      "execution_count": null,
      "outputs": []
    },
    {
      "cell_type": "code",
      "source": [
        "df_train_notclean=pd.read_csv('/content/drive/MyDrive/ies 2023/aprendisaje automatico/TP.TITANIC/bases de datos/train (sex).csv')\n",
        "df_test_notclean=pd.read_csv('/content/drive/MyDrive/ies 2023/aprendisaje automatico/TP.TITANIC/bases de datos/test (sex).csv')\n",
        "df_complete_notclean=pd.read_csv('/content/drive/MyDrive/ies 2023/aprendisaje automatico/TP.TITANIC/bases de datos/titanic3.csv')"
      ],
      "metadata": {
        "id": "jMd_kM5pIBrk"
      },
      "execution_count": null,
      "outputs": []
    },
    {
      "cell_type": "code",
      "source": [
        "df_train_notclean.head()\n",
        "print(df_train_notclean.info())"
      ],
      "metadata": {
        "colab": {
          "base_uri": "https://localhost:8080/"
        },
        "id": "wYOZoDrWIeyq",
        "outputId": "6be8dcfc-1d0a-42cc-b5f8-b98c43715ade"
      },
      "execution_count": null,
      "outputs": [
        {
          "output_type": "stream",
          "name": "stdout",
          "text": [
            "<class 'pandas.core.frame.DataFrame'>\n",
            "RangeIndex: 891 entries, 0 to 890\n",
            "Data columns (total 12 columns):\n",
            " #   Column       Non-Null Count  Dtype  \n",
            "---  ------       --------------  -----  \n",
            " 0   PassengerId  891 non-null    int64  \n",
            " 1   Survived     891 non-null    int64  \n",
            " 2   Pclass       891 non-null    int64  \n",
            " 3   Name         891 non-null    object \n",
            " 4   Sex          891 non-null    object \n",
            " 5   Age          891 non-null    float64\n",
            " 6   SibSp        891 non-null    int64  \n",
            " 7   Parch        891 non-null    int64  \n",
            " 8   Ticket       891 non-null    object \n",
            " 9   Fare         891 non-null    float64\n",
            " 10  Cabin        204 non-null    object \n",
            " 11  Embarked     889 non-null    object \n",
            "dtypes: float64(2), int64(5), object(5)\n",
            "memory usage: 83.7+ KB\n",
            "None\n"
          ]
        }
      ]
    },
    {
      "cell_type": "code",
      "source": [
        "df_test_notclean.head()\n",
        "print(df_test_notclean.info())"
      ],
      "metadata": {
        "colab": {
          "base_uri": "https://localhost:8080/"
        },
        "id": "2czesSEzIlOq",
        "outputId": "c53aef3a-22bb-4103-9dd5-0c7dead0a8f5"
      },
      "execution_count": null,
      "outputs": [
        {
          "output_type": "stream",
          "name": "stdout",
          "text": [
            "<class 'pandas.core.frame.DataFrame'>\n",
            "RangeIndex: 418 entries, 0 to 417\n",
            "Data columns (total 11 columns):\n",
            " #   Column       Non-Null Count  Dtype  \n",
            "---  ------       --------------  -----  \n",
            " 0   PassengerId  418 non-null    int64  \n",
            " 1   Pclass       418 non-null    int64  \n",
            " 2   Name         418 non-null    object \n",
            " 3   Sex          418 non-null    object \n",
            " 4   Age          418 non-null    float64\n",
            " 5   SibSp        418 non-null    int64  \n",
            " 6   Parch        418 non-null    int64  \n",
            " 7   Ticket       418 non-null    object \n",
            " 8   Fare         417 non-null    float64\n",
            " 9   Cabin        91 non-null     object \n",
            " 10  Embarked     418 non-null    object \n",
            "dtypes: float64(2), int64(4), object(5)\n",
            "memory usage: 36.0+ KB\n",
            "None\n"
          ]
        }
      ]
    },
    {
      "cell_type": "code",
      "source": [
        "\n",
        "columnas_eliminar =['boat','body','home.dest']\n",
        "df_complete_ce=df_complete_notclean.drop(columnas_eliminar,axis=1)\n",
        "print(df_complete_ce.info())"
      ],
      "metadata": {
        "colab": {
          "base_uri": "https://localhost:8080/"
        },
        "id": "amJq0jriIvL9",
        "outputId": "62de4824-cde7-4433-a9f2-112b75f5c88a"
      },
      "execution_count": null,
      "outputs": [
        {
          "output_type": "stream",
          "name": "stdout",
          "text": [
            "<class 'pandas.core.frame.DataFrame'>\n",
            "RangeIndex: 1309 entries, 0 to 1308\n",
            "Data columns (total 11 columns):\n",
            " #   Column    Non-Null Count  Dtype \n",
            "---  ------    --------------  ----- \n",
            " 0   pclass    1309 non-null   int64 \n",
            " 1   survived  1309 non-null   int64 \n",
            " 2   name      1309 non-null   object\n",
            " 3   sex       1309 non-null   object\n",
            " 4   age       1046 non-null   object\n",
            " 5   sibsp     1309 non-null   int64 \n",
            " 6   parch     1309 non-null   int64 \n",
            " 7   ticket    1309 non-null   object\n",
            " 8   fare      1308 non-null   object\n",
            " 9   cabin     295 non-null    object\n",
            " 10  embarked  1307 non-null   object\n",
            "dtypes: int64(4), object(7)\n",
            "memory usage: 112.6+ KB\n",
            "None\n"
          ]
        }
      ]
    },
    {
      "cell_type": "markdown",
      "source": [
        "## Nulos"
      ],
      "metadata": {
        "id": "p8ggCy7uMq6I"
      }
    },
    {
      "cell_type": "code",
      "source": [
        "pd.isnull(df_train_notclean).sum()\n"
      ],
      "metadata": {
        "colab": {
          "base_uri": "https://localhost:8080/"
        },
        "id": "pgcLjUVpMt6s",
        "outputId": "85af91be-783f-4779-a2d4-1c184f8d220f"
      },
      "execution_count": null,
      "outputs": [
        {
          "output_type": "execute_result",
          "data": {
            "text/plain": [
              "PassengerId      0\n",
              "Survived         0\n",
              "Pclass           0\n",
              "Name             0\n",
              "Sex              0\n",
              "Age              0\n",
              "SibSp            0\n",
              "Parch            0\n",
              "Ticket           0\n",
              "Fare             0\n",
              "Cabin          687\n",
              "Embarked         2\n",
              "dtype: int64"
            ]
          },
          "metadata": {},
          "execution_count": 10
        }
      ]
    },
    {
      "cell_type": "code",
      "source": [
        "pd.isnull(df_test_notclean).sum()"
      ],
      "metadata": {
        "colab": {
          "base_uri": "https://localhost:8080/"
        },
        "id": "kVbvECZzM65p",
        "outputId": "0b00b22c-1dd1-4445-a7c3-dbeedcf16a88"
      },
      "execution_count": null,
      "outputs": [
        {
          "output_type": "execute_result",
          "data": {
            "text/plain": [
              "PassengerId      0\n",
              "Pclass           0\n",
              "Name             0\n",
              "Sex              0\n",
              "Age              0\n",
              "SibSp            0\n",
              "Parch            0\n",
              "Ticket           0\n",
              "Fare             1\n",
              "Cabin          327\n",
              "Embarked         0\n",
              "dtype: int64"
            ]
          },
          "metadata": {},
          "execution_count": 11
        }
      ]
    },
    {
      "cell_type": "markdown",
      "source": [
        "Pudimos previamente notar que los nulos se encuentra en las columnas sexo y cabina pero esta ultima no es tan importante como lo es sexo, por lo cual esta ultima sera el foco de nuestro pre procesamiento.\n",
        "\n",
        "\n",
        " ##Los datos vacios fueron remplazados por los promedios por clase y sexo en la tabla original![Captura.PNG](data:image/png;base64,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)"
      ],
      "metadata": {
        "id": "nQkCh6urNTAc"
      }
    },
    {
      "cell_type": "markdown",
      "source": [
        "### Estadisticas"
      ],
      "metadata": {
        "id": "GAM04WSbN1yv"
      }
    },
    {
      "cell_type": "code",
      "source": [
        "df_train_notclean.describe()"
      ],
      "metadata": {
        "colab": {
          "base_uri": "https://localhost:8080/",
          "height": 300
        },
        "id": "bkNLA4-wN5zX",
        "outputId": "ff3bb659-000f-4528-cc33-bf9e777248e1"
      },
      "execution_count": null,
      "outputs": [
        {
          "output_type": "execute_result",
          "data": {
            "text/plain": [
              "       PassengerId    Survived      Pclass         Age       SibSp  \\\n",
              "count   891.000000  891.000000  891.000000  891.000000  891.000000   \n",
              "mean    446.000000    0.383838    2.308642   29.349237    0.523008   \n",
              "std     257.353842    0.486592    0.836071   13.207716    1.102743   \n",
              "min       1.000000    0.000000    1.000000    0.420000    0.000000   \n",
              "25%     223.500000    0.000000    2.000000   22.000000    0.000000   \n",
              "50%     446.000000    0.000000    3.000000   27.000000    0.000000   \n",
              "75%     668.500000    1.000000    3.000000   36.000000    1.000000   \n",
              "max     891.000000    1.000000    3.000000   80.000000    8.000000   \n",
              "\n",
              "            Parch        Fare  \n",
              "count  891.000000  891.000000  \n",
              "mean     0.381594   32.204208  \n",
              "std      0.806057   49.693429  \n",
              "min      0.000000    0.000000  \n",
              "25%      0.000000    7.910400  \n",
              "50%      0.000000   14.454200  \n",
              "75%      0.000000   31.000000  \n",
              "max      6.000000  512.329200  "
            ],
            "text/html": [
              "\n",
              "  <div id=\"df-94bd4bad-5922-4da6-b6ac-30be71344ed2\">\n",
              "    <div class=\"colab-df-container\">\n",
              "      <div>\n",
              "<style scoped>\n",
              "    .dataframe tbody tr th:only-of-type {\n",
              "        vertical-align: middle;\n",
              "    }\n",
              "\n",
              "    .dataframe tbody tr th {\n",
              "        vertical-align: top;\n",
              "    }\n",
              "\n",
              "    .dataframe thead th {\n",
              "        text-align: right;\n",
              "    }\n",
              "</style>\n",
              "<table border=\"1\" class=\"dataframe\">\n",
              "  <thead>\n",
              "    <tr style=\"text-align: right;\">\n",
              "      <th></th>\n",
              "      <th>PassengerId</th>\n",
              "      <th>Survived</th>\n",
              "      <th>Pclass</th>\n",
              "      <th>Age</th>\n",
              "      <th>SibSp</th>\n",
              "      <th>Parch</th>\n",
              "      <th>Fare</th>\n",
              "    </tr>\n",
              "  </thead>\n",
              "  <tbody>\n",
              "    <tr>\n",
              "      <th>count</th>\n",
              "      <td>891.000000</td>\n",
              "      <td>891.000000</td>\n",
              "      <td>891.000000</td>\n",
              "      <td>891.000000</td>\n",
              "      <td>891.000000</td>\n",
              "      <td>891.000000</td>\n",
              "      <td>891.000000</td>\n",
              "    </tr>\n",
              "    <tr>\n",
              "      <th>mean</th>\n",
              "      <td>446.000000</td>\n",
              "      <td>0.383838</td>\n",
              "      <td>2.308642</td>\n",
              "      <td>29.349237</td>\n",
              "      <td>0.523008</td>\n",
              "      <td>0.381594</td>\n",
              "      <td>32.204208</td>\n",
              "    </tr>\n",
              "    <tr>\n",
              "      <th>std</th>\n",
              "      <td>257.353842</td>\n",
              "      <td>0.486592</td>\n",
              "      <td>0.836071</td>\n",
              "      <td>13.207716</td>\n",
              "      <td>1.102743</td>\n",
              "      <td>0.806057</td>\n",
              "      <td>49.693429</td>\n",
              "    </tr>\n",
              "    <tr>\n",
              "      <th>min</th>\n",
              "      <td>1.000000</td>\n",
              "      <td>0.000000</td>\n",
              "      <td>1.000000</td>\n",
              "      <td>0.420000</td>\n",
              "      <td>0.000000</td>\n",
              "      <td>0.000000</td>\n",
              "      <td>0.000000</td>\n",
              "    </tr>\n",
              "    <tr>\n",
              "      <th>25%</th>\n",
              "      <td>223.500000</td>\n",
              "      <td>0.000000</td>\n",
              "      <td>2.000000</td>\n",
              "      <td>22.000000</td>\n",
              "      <td>0.000000</td>\n",
              "      <td>0.000000</td>\n",
              "      <td>7.910400</td>\n",
              "    </tr>\n",
              "    <tr>\n",
              "      <th>50%</th>\n",
              "      <td>446.000000</td>\n",
              "      <td>0.000000</td>\n",
              "      <td>3.000000</td>\n",
              "      <td>27.000000</td>\n",
              "      <td>0.000000</td>\n",
              "      <td>0.000000</td>\n",
              "      <td>14.454200</td>\n",
              "    </tr>\n",
              "    <tr>\n",
              "      <th>75%</th>\n",
              "      <td>668.500000</td>\n",
              "      <td>1.000000</td>\n",
              "      <td>3.000000</td>\n",
              "      <td>36.000000</td>\n",
              "      <td>1.000000</td>\n",
              "      <td>0.000000</td>\n",
              "      <td>31.000000</td>\n",
              "    </tr>\n",
              "    <tr>\n",
              "      <th>max</th>\n",
              "      <td>891.000000</td>\n",
              "      <td>1.000000</td>\n",
              "      <td>3.000000</td>\n",
              "      <td>80.000000</td>\n",
              "      <td>8.000000</td>\n",
              "      <td>6.000000</td>\n",
              "      <td>512.329200</td>\n",
              "    </tr>\n",
              "  </tbody>\n",
              "</table>\n",
              "</div>\n",
              "      <button class=\"colab-df-convert\" onclick=\"convertToInteractive('df-94bd4bad-5922-4da6-b6ac-30be71344ed2')\"\n",
              "              title=\"Convert this dataframe to an interactive table.\"\n",
              "              style=\"display:none;\">\n",
              "        \n",
              "  <svg xmlns=\"http://www.w3.org/2000/svg\" height=\"24px\"viewBox=\"0 0 24 24\"\n",
              "       width=\"24px\">\n",
              "    <path d=\"M0 0h24v24H0V0z\" fill=\"none\"/>\n",
              "    <path d=\"M18.56 5.44l.94 2.06.94-2.06 2.06-.94-2.06-.94-.94-2.06-.94 2.06-2.06.94zm-11 1L8.5 8.5l.94-2.06 2.06-.94-2.06-.94L8.5 2.5l-.94 2.06-2.06.94zm10 10l.94 2.06.94-2.06 2.06-.94-2.06-.94-.94-2.06-.94 2.06-2.06.94z\"/><path d=\"M17.41 7.96l-1.37-1.37c-.4-.4-.92-.59-1.43-.59-.52 0-1.04.2-1.43.59L10.3 9.45l-7.72 7.72c-.78.78-.78 2.05 0 2.83L4 21.41c.39.39.9.59 1.41.59.51 0 1.02-.2 1.41-.59l7.78-7.78 2.81-2.81c.8-.78.8-2.07 0-2.86zM5.41 20L4 18.59l7.72-7.72 1.47 1.35L5.41 20z\"/>\n",
              "  </svg>\n",
              "      </button>\n",
              "      \n",
              "  <style>\n",
              "    .colab-df-container {\n",
              "      display:flex;\n",
              "      flex-wrap:wrap;\n",
              "      gap: 12px;\n",
              "    }\n",
              "\n",
              "    .colab-df-convert {\n",
              "      background-color: #E8F0FE;\n",
              "      border: none;\n",
              "      border-radius: 50%;\n",
              "      cursor: pointer;\n",
              "      display: none;\n",
              "      fill: #1967D2;\n",
              "      height: 32px;\n",
              "      padding: 0 0 0 0;\n",
              "      width: 32px;\n",
              "    }\n",
              "\n",
              "    .colab-df-convert:hover {\n",
              "      background-color: #E2EBFA;\n",
              "      box-shadow: 0px 1px 2px rgba(60, 64, 67, 0.3), 0px 1px 3px 1px rgba(60, 64, 67, 0.15);\n",
              "      fill: #174EA6;\n",
              "    }\n",
              "\n",
              "    [theme=dark] .colab-df-convert {\n",
              "      background-color: #3B4455;\n",
              "      fill: #D2E3FC;\n",
              "    }\n",
              "\n",
              "    [theme=dark] .colab-df-convert:hover {\n",
              "      background-color: #434B5C;\n",
              "      box-shadow: 0px 1px 3px 1px rgba(0, 0, 0, 0.15);\n",
              "      filter: drop-shadow(0px 1px 2px rgba(0, 0, 0, 0.3));\n",
              "      fill: #FFFFFF;\n",
              "    }\n",
              "  </style>\n",
              "\n",
              "      <script>\n",
              "        const buttonEl =\n",
              "          document.querySelector('#df-94bd4bad-5922-4da6-b6ac-30be71344ed2 button.colab-df-convert');\n",
              "        buttonEl.style.display =\n",
              "          google.colab.kernel.accessAllowed ? 'block' : 'none';\n",
              "\n",
              "        async function convertToInteractive(key) {\n",
              "          const element = document.querySelector('#df-94bd4bad-5922-4da6-b6ac-30be71344ed2');\n",
              "          const dataTable =\n",
              "            await google.colab.kernel.invokeFunction('convertToInteractive',\n",
              "                                                     [key], {});\n",
              "          if (!dataTable) return;\n",
              "\n",
              "          const docLinkHtml = 'Like what you see? Visit the ' +\n",
              "            '<a target=\"_blank\" href=https://colab.research.google.com/notebooks/data_table.ipynb>data table notebook</a>'\n",
              "            + ' to learn more about interactive tables.';\n",
              "          element.innerHTML = '';\n",
              "          dataTable['output_type'] = 'display_data';\n",
              "          await google.colab.output.renderOutput(dataTable, element);\n",
              "          const docLink = document.createElement('div');\n",
              "          docLink.innerHTML = docLinkHtml;\n",
              "          element.appendChild(docLink);\n",
              "        }\n",
              "      </script>\n",
              "    </div>\n",
              "  </div>\n",
              "  "
            ]
          },
          "metadata": {},
          "execution_count": 12
        }
      ]
    },
    {
      "cell_type": "code",
      "source": [
        "df_test_notclean.describe()"
      ],
      "metadata": {
        "colab": {
          "base_uri": "https://localhost:8080/",
          "height": 300
        },
        "id": "X6VQdX0LN_lX",
        "outputId": "b35ca199-467b-4789-d2c7-7066313aa7d9"
      },
      "execution_count": null,
      "outputs": [
        {
          "output_type": "execute_result",
          "data": {
            "text/plain": [
              "       PassengerId      Pclass         Sex       SibSp       Parch  \\\n",
              "count    407.00000  407.000000  407.000000  407.000000  407.000000   \n",
              "mean    1102.41769    2.287469    0.636364    0.442260    0.388206   \n",
              "std      121.02995    0.835432    0.481638    0.904822    0.980931   \n",
              "min      892.00000    1.000000    0.000000    0.000000    0.000000   \n",
              "25%      997.50000    2.000000    0.000000    0.000000    0.000000   \n",
              "50%     1104.00000    3.000000    1.000000    0.000000    0.000000   \n",
              "75%     1207.50000    3.000000    1.000000    1.000000    0.000000   \n",
              "max     1309.00000    3.000000    1.000000    8.000000    9.000000   \n",
              "\n",
              "             Fare    Embarked  \n",
              "count  407.000000  407.000000  \n",
              "mean    34.001863    1.378378  \n",
              "std     53.714060    0.969650  \n",
              "min      0.000000    0.000000  \n",
              "25%      7.883350    1.000000  \n",
              "50%     14.108300    1.000000  \n",
              "75%     30.943750    1.000000  \n",
              "max    512.329200    3.000000  "
            ],
            "text/html": [
              "\n",
              "  <div id=\"df-f0c9f099-8c99-4901-88b6-0dd22ad07c48\">\n",
              "    <div class=\"colab-df-container\">\n",
              "      <div>\n",
              "<style scoped>\n",
              "    .dataframe tbody tr th:only-of-type {\n",
              "        vertical-align: middle;\n",
              "    }\n",
              "\n",
              "    .dataframe tbody tr th {\n",
              "        vertical-align: top;\n",
              "    }\n",
              "\n",
              "    .dataframe thead th {\n",
              "        text-align: right;\n",
              "    }\n",
              "</style>\n",
              "<table border=\"1\" class=\"dataframe\">\n",
              "  <thead>\n",
              "    <tr style=\"text-align: right;\">\n",
              "      <th></th>\n",
              "      <th>PassengerId</th>\n",
              "      <th>Pclass</th>\n",
              "      <th>Sex</th>\n",
              "      <th>SibSp</th>\n",
              "      <th>Parch</th>\n",
              "      <th>Fare</th>\n",
              "      <th>Embarked</th>\n",
              "    </tr>\n",
              "  </thead>\n",
              "  <tbody>\n",
              "    <tr>\n",
              "      <th>count</th>\n",
              "      <td>407.00000</td>\n",
              "      <td>407.000000</td>\n",
              "      <td>407.000000</td>\n",
              "      <td>407.000000</td>\n",
              "      <td>407.000000</td>\n",
              "      <td>407.000000</td>\n",
              "      <td>407.000000</td>\n",
              "    </tr>\n",
              "    <tr>\n",
              "      <th>mean</th>\n",
              "      <td>1102.41769</td>\n",
              "      <td>2.287469</td>\n",
              "      <td>0.636364</td>\n",
              "      <td>0.442260</td>\n",
              "      <td>0.388206</td>\n",
              "      <td>34.001863</td>\n",
              "      <td>1.378378</td>\n",
              "    </tr>\n",
              "    <tr>\n",
              "      <th>std</th>\n",
              "      <td>121.02995</td>\n",
              "      <td>0.835432</td>\n",
              "      <td>0.481638</td>\n",
              "      <td>0.904822</td>\n",
              "      <td>0.980931</td>\n",
              "      <td>53.714060</td>\n",
              "      <td>0.969650</td>\n",
              "    </tr>\n",
              "    <tr>\n",
              "      <th>min</th>\n",
              "      <td>892.00000</td>\n",
              "      <td>1.000000</td>\n",
              "      <td>0.000000</td>\n",
              "      <td>0.000000</td>\n",
              "      <td>0.000000</td>\n",
              "      <td>0.000000</td>\n",
              "      <td>0.000000</td>\n",
              "    </tr>\n",
              "    <tr>\n",
              "      <th>25%</th>\n",
              "      <td>997.50000</td>\n",
              "      <td>2.000000</td>\n",
              "      <td>0.000000</td>\n",
              "      <td>0.000000</td>\n",
              "      <td>0.000000</td>\n",
              "      <td>7.883350</td>\n",
              "      <td>1.000000</td>\n",
              "    </tr>\n",
              "    <tr>\n",
              "      <th>50%</th>\n",
              "      <td>1104.00000</td>\n",
              "      <td>3.000000</td>\n",
              "      <td>1.000000</td>\n",
              "      <td>0.000000</td>\n",
              "      <td>0.000000</td>\n",
              "      <td>14.108300</td>\n",
              "      <td>1.000000</td>\n",
              "    </tr>\n",
              "    <tr>\n",
              "      <th>75%</th>\n",
              "      <td>1207.50000</td>\n",
              "      <td>3.000000</td>\n",
              "      <td>1.000000</td>\n",
              "      <td>1.000000</td>\n",
              "      <td>0.000000</td>\n",
              "      <td>30.943750</td>\n",
              "      <td>1.000000</td>\n",
              "    </tr>\n",
              "    <tr>\n",
              "      <th>max</th>\n",
              "      <td>1309.00000</td>\n",
              "      <td>3.000000</td>\n",
              "      <td>1.000000</td>\n",
              "      <td>8.000000</td>\n",
              "      <td>9.000000</td>\n",
              "      <td>512.329200</td>\n",
              "      <td>3.000000</td>\n",
              "    </tr>\n",
              "  </tbody>\n",
              "</table>\n",
              "</div>\n",
              "      <button class=\"colab-df-convert\" onclick=\"convertToInteractive('df-f0c9f099-8c99-4901-88b6-0dd22ad07c48')\"\n",
              "              title=\"Convert this dataframe to an interactive table.\"\n",
              "              style=\"display:none;\">\n",
              "        \n",
              "  <svg xmlns=\"http://www.w3.org/2000/svg\" height=\"24px\"viewBox=\"0 0 24 24\"\n",
              "       width=\"24px\">\n",
              "    <path d=\"M0 0h24v24H0V0z\" fill=\"none\"/>\n",
              "    <path d=\"M18.56 5.44l.94 2.06.94-2.06 2.06-.94-2.06-.94-.94-2.06-.94 2.06-2.06.94zm-11 1L8.5 8.5l.94-2.06 2.06-.94-2.06-.94L8.5 2.5l-.94 2.06-2.06.94zm10 10l.94 2.06.94-2.06 2.06-.94-2.06-.94-.94-2.06-.94 2.06-2.06.94z\"/><path d=\"M17.41 7.96l-1.37-1.37c-.4-.4-.92-.59-1.43-.59-.52 0-1.04.2-1.43.59L10.3 9.45l-7.72 7.72c-.78.78-.78 2.05 0 2.83L4 21.41c.39.39.9.59 1.41.59.51 0 1.02-.2 1.41-.59l7.78-7.78 2.81-2.81c.8-.78.8-2.07 0-2.86zM5.41 20L4 18.59l7.72-7.72 1.47 1.35L5.41 20z\"/>\n",
              "  </svg>\n",
              "      </button>\n",
              "      \n",
              "  <style>\n",
              "    .colab-df-container {\n",
              "      display:flex;\n",
              "      flex-wrap:wrap;\n",
              "      gap: 12px;\n",
              "    }\n",
              "\n",
              "    .colab-df-convert {\n",
              "      background-color: #E8F0FE;\n",
              "      border: none;\n",
              "      border-radius: 50%;\n",
              "      cursor: pointer;\n",
              "      display: none;\n",
              "      fill: #1967D2;\n",
              "      height: 32px;\n",
              "      padding: 0 0 0 0;\n",
              "      width: 32px;\n",
              "    }\n",
              "\n",
              "    .colab-df-convert:hover {\n",
              "      background-color: #E2EBFA;\n",
              "      box-shadow: 0px 1px 2px rgba(60, 64, 67, 0.3), 0px 1px 3px 1px rgba(60, 64, 67, 0.15);\n",
              "      fill: #174EA6;\n",
              "    }\n",
              "\n",
              "    [theme=dark] .colab-df-convert {\n",
              "      background-color: #3B4455;\n",
              "      fill: #D2E3FC;\n",
              "    }\n",
              "\n",
              "    [theme=dark] .colab-df-convert:hover {\n",
              "      background-color: #434B5C;\n",
              "      box-shadow: 0px 1px 3px 1px rgba(0, 0, 0, 0.15);\n",
              "      filter: drop-shadow(0px 1px 2px rgba(0, 0, 0, 0.3));\n",
              "      fill: #FFFFFF;\n",
              "    }\n",
              "  </style>\n",
              "\n",
              "      <script>\n",
              "        const buttonEl =\n",
              "          document.querySelector('#df-f0c9f099-8c99-4901-88b6-0dd22ad07c48 button.colab-df-convert');\n",
              "        buttonEl.style.display =\n",
              "          google.colab.kernel.accessAllowed ? 'block' : 'none';\n",
              "\n",
              "        async function convertToInteractive(key) {\n",
              "          const element = document.querySelector('#df-f0c9f099-8c99-4901-88b6-0dd22ad07c48');\n",
              "          const dataTable =\n",
              "            await google.colab.kernel.invokeFunction('convertToInteractive',\n",
              "                                                     [key], {});\n",
              "          if (!dataTable) return;\n",
              "\n",
              "          const docLinkHtml = 'Like what you see? Visit the ' +\n",
              "            '<a target=\"_blank\" href=https://colab.research.google.com/notebooks/data_table.ipynb>data table notebook</a>'\n",
              "            + ' to learn more about interactive tables.';\n",
              "          element.innerHTML = '';\n",
              "          dataTable['output_type'] = 'display_data';\n",
              "          await google.colab.output.renderOutput(dataTable, element);\n",
              "          const docLink = document.createElement('div');\n",
              "          docLink.innerHTML = docLinkHtml;\n",
              "          element.appendChild(docLink);\n",
              "        }\n",
              "      </script>\n",
              "    </div>\n",
              "  </div>\n",
              "  "
            ]
          },
          "metadata": {},
          "execution_count": 62
        }
      ]
    },
    {
      "cell_type": "markdown",
      "source": [
        "# Nueva sección"
      ],
      "metadata": {
        "id": "KgTEahCdOvtw"
      }
    },
    {
      "cell_type": "markdown",
      "source": [
        "#PreProcesamiento de datos\n"
      ],
      "metadata": {
        "id": "dDmc9_qkOwSk"
      }
    },
    {
      "cell_type": "markdown",
      "source": [
        "Pasos:\n",
        "\n",
        "\n",
        "\n",
        "1.  Cambiar la columna embarque y sexo por datos numericos\n",
        "2.  Remplazar los datos faltantes(realizado en tablaoriginal) y agrupar la columna edad\n",
        "3.  Eliminaremos la columna cabina,debido a que contiene muchos datos faltantes\n",
        "4.  Eliminaremos las columnas que no sean necesarios para el analisis\n",
        "5.  Eliminaremos las filas con los datos faltantes\n",
        "6.  Elemento de lista\n"
      ],
      "metadata": {
        "id": "BRTE6WtcO1K1"
      }
    },
    {
      "cell_type": "markdown",
      "source": [
        "###Cambiar la columna embarque y sexo por datos numericos\n",
        "\n"
      ],
      "metadata": {
        "id": "SFK8W4mO-EfI"
      }
    },
    {
      "cell_type": "code",
      "source": [
        "df_train_notclean['Sex'].replace(['female','male'],[0,1],inplace=True)\n",
        "print(df_train_notclean['Sex'])"
      ],
      "metadata": {
        "colab": {
          "base_uri": "https://localhost:8080/"
        },
        "id": "Z3qDq9NsTRnA",
        "outputId": "8b39685f-c557-4ac3-912b-24c4f134cf97"
      },
      "execution_count": null,
      "outputs": [
        {
          "output_type": "stream",
          "name": "stdout",
          "text": [
            "0      1\n",
            "1      0\n",
            "2      0\n",
            "3      0\n",
            "4      1\n",
            "      ..\n",
            "886    1\n",
            "887    0\n",
            "888    1\n",
            "889    1\n",
            "890    1\n",
            "Name: Sex, Length: 869, dtype: int64\n"
          ]
        }
      ]
    },
    {
      "cell_type": "code",
      "source": [
        "df_test_notclean['Sex'].replace(['female','male'],[0,1],inplace=True)\n",
        "print(df_train_notclean['Sex'])"
      ],
      "metadata": {
        "colab": {
          "base_uri": "https://localhost:8080/"
        },
        "id": "mDIdVt79Ura0",
        "outputId": "3fa060c3-19ab-4ce1-9930-23776b7d9386"
      },
      "execution_count": null,
      "outputs": [
        {
          "output_type": "stream",
          "name": "stdout",
          "text": [
            "0      1\n",
            "1      0\n",
            "2      0\n",
            "3      0\n",
            "4      1\n",
            "      ..\n",
            "886    1\n",
            "887    0\n",
            "888    1\n",
            "889    1\n",
            "890    1\n",
            "Name: Sex, Length: 869, dtype: int64\n"
          ]
        }
      ]
    },
    {
      "cell_type": "code",
      "source": [
        "df_train_notclean['Embarked'].replace(['Q','S','C'],[0,1,3],inplace=True)\n",
        "print(df_train_notclean['Embarked'])"
      ],
      "metadata": {
        "colab": {
          "base_uri": "https://localhost:8080/"
        },
        "id": "6isD-hDpVTYR",
        "outputId": "24c3879b-1622-4163-e38a-0f1fafaf5822"
      },
      "execution_count": null,
      "outputs": [
        {
          "output_type": "stream",
          "name": "stdout",
          "text": [
            "0      1.0\n",
            "1      3.0\n",
            "2      1.0\n",
            "3      1.0\n",
            "4      1.0\n",
            "      ... \n",
            "886    1.0\n",
            "887    1.0\n",
            "888    1.0\n",
            "889    3.0\n",
            "890    0.0\n",
            "Name: Embarked, Length: 869, dtype: float64\n"
          ]
        }
      ]
    },
    {
      "cell_type": "code",
      "source": [
        "df_test_notclean['Embarked'].replace(['Q','S','C'],[0,1,3],inplace=True)\n",
        "print(df_test_notclean['Embarked'])\n"
      ],
      "metadata": {
        "colab": {
          "base_uri": "https://localhost:8080/"
        },
        "id": "NYZaoT-kVntz",
        "outputId": "4eab8980-4a9a-4974-ead8-f1a1f37cd770"
      },
      "execution_count": null,
      "outputs": [
        {
          "output_type": "stream",
          "name": "stdout",
          "text": [
            "0      0\n",
            "1      1\n",
            "3      1\n",
            "4      1\n",
            "5      1\n",
            "      ..\n",
            "413    1\n",
            "414    3\n",
            "415    1\n",
            "416    1\n",
            "417    3\n",
            "Name: Embarked, Length: 407, dtype: int64\n"
          ]
        }
      ]
    },
    {
      "cell_type": "markdown",
      "source": [
        "### Agrupamiento de edad"
      ],
      "metadata": {
        "id": "jL3PZH6w7Y5v"
      }
    },
    {
      "cell_type": "markdown",
      "source": [
        "##Eliminaremos las columnas que no sean necesarios para el analisis\n"
      ],
      "metadata": {
        "id": "7YyyjNbX9qDO"
      }
    },
    {
      "cell_type": "code",
      "source": [
        "df_train_notclean.drop(['Cabin'],axis=1,inplace=True)\n",
        "\n",
        "#cabin tiene demasiados datos perdidos"
      ],
      "metadata": {
        "id": "ojFrzk8R-OQi"
      },
      "execution_count": null,
      "outputs": []
    },
    {
      "cell_type": "code",
      "source": [
        "df_test_notclean.drop(['Cabin'],axis=1,inplace=True)"
      ],
      "metadata": {
        "id": "Xr9axBiIBJpM"
      },
      "execution_count": null,
      "outputs": []
    },
    {
      "cell_type": "code",
      "source": [
        "df_train_notclean.dropna(axis=0,how='any', inplace=True)\n",
        "df_test_notclean.dropna(axis=0,how='any', inplace=True)\n",
        "#Eliminamos las filas con datos perdidos"
      ],
      "metadata": {
        "id": "LwxPZB9R_hHv"
      },
      "execution_count": null,
      "outputs": []
    },
    {
      "cell_type": "code",
      "source": [
        "analisis_test=df_test_notclean.drop(['Name','Ticket'],axis=1)"
      ],
      "metadata": {
        "id": "nNTZVKvkCtyJ"
      },
      "execution_count": null,
      "outputs": []
    },
    {
      "cell_type": "code",
      "source": [
        "analisis_train=df_train_notclean.drop(['PassengerId','Name','Ticket'],axis=1)"
      ],
      "metadata": {
        "id": "99kLlqbnCv9T"
      },
      "execution_count": null,
      "outputs": []
    },
    {
      "cell_type": "markdown",
      "source": [
        "# Verificacion"
      ],
      "metadata": {
        "id": "0xlBCzY0_623"
      }
    },
    {
      "cell_type": "code",
      "source": [
        "(analisis_test).info()"
      ],
      "metadata": {
        "colab": {
          "base_uri": "https://localhost:8080/"
        },
        "id": "OpQdDpCj__Rw",
        "outputId": "94192a6b-972c-43cd-d6df-c3880a5e87ac"
      },
      "execution_count": null,
      "outputs": [
        {
          "output_type": "stream",
          "name": "stdout",
          "text": [
            "<class 'pandas.core.frame.DataFrame'>\n",
            "Int64Index: 407 entries, 0 to 417\n",
            "Data columns (total 8 columns):\n",
            " #   Column       Non-Null Count  Dtype   \n",
            "---  ------       --------------  -----   \n",
            " 0   PassengerId  407 non-null    int64   \n",
            " 1   Pclass       407 non-null    int64   \n",
            " 2   Sex          407 non-null    int64   \n",
            " 3   Age          407 non-null    category\n",
            " 4   SibSp        407 non-null    int64   \n",
            " 5   Parch        407 non-null    int64   \n",
            " 6   Fare         407 non-null    float64 \n",
            " 7   Embarked     407 non-null    int64   \n",
            "dtypes: category(1), float64(1), int64(6)\n",
            "memory usage: 26.0 KB\n"
          ]
        }
      ]
    },
    {
      "cell_type": "code",
      "source": [
        "analisis_train.info()"
      ],
      "metadata": {
        "colab": {
          "base_uri": "https://localhost:8080/"
        },
        "id": "Q2HqmfBJDCPL",
        "outputId": "efddc5e0-c52e-4767-f0af-9ace45dc3b57"
      },
      "execution_count": null,
      "outputs": [
        {
          "output_type": "stream",
          "name": "stdout",
          "text": [
            "<class 'pandas.core.frame.DataFrame'>\n",
            "Int64Index: 869 entries, 0 to 890\n",
            "Data columns (total 8 columns):\n",
            " #   Column    Non-Null Count  Dtype   \n",
            "---  ------    --------------  -----   \n",
            " 0   Survived  869 non-null    int64   \n",
            " 1   Pclass    869 non-null    int64   \n",
            " 2   Sex       869 non-null    int64   \n",
            " 3   Age       869 non-null    category\n",
            " 4   SibSp     869 non-null    int64   \n",
            " 5   Parch     869 non-null    int64   \n",
            " 6   Fare      869 non-null    float64 \n",
            " 7   Embarked  869 non-null    float64 \n",
            "dtypes: category(1), float64(2), int64(5)\n",
            "memory usage: 55.4 KB\n"
          ]
        }
      ]
    },
    {
      "cell_type": "code",
      "source": [
        "pd.isnull(analisis_test).sum()"
      ],
      "metadata": {
        "colab": {
          "base_uri": "https://localhost:8080/"
        },
        "id": "lkpopkTUASRa",
        "outputId": "7958e1f5-4e9c-4361-c18b-a6748c731ee2"
      },
      "execution_count": null,
      "outputs": [
        {
          "output_type": "execute_result",
          "data": {
            "text/plain": [
              "PassengerId    0\n",
              "Pclass         0\n",
              "Sex            0\n",
              "Age            0\n",
              "SibSp          0\n",
              "Parch          0\n",
              "Fare           0\n",
              "Embarked       0\n",
              "dtype: int64"
            ]
          },
          "metadata": {},
          "execution_count": 102
        }
      ]
    },
    {
      "cell_type": "code",
      "source": [
        "analisis_train.head()"
      ],
      "metadata": {
        "colab": {
          "base_uri": "https://localhost:8080/",
          "height": 206
        },
        "id": "l71JWRwOAe5h",
        "outputId": "dafbf182-9e9b-41aa-b790-db72c141e2d7"
      },
      "execution_count": null,
      "outputs": [
        {
          "output_type": "execute_result",
          "data": {
            "text/plain": [
              "   Survived  Pclass  Sex Age  SibSp  Parch     Fare  Embarked\n",
              "0         0       3    1   4      1      0   7.2500       1.0\n",
              "1         1       1    0   6      1      0  71.2833       3.0\n",
              "2         1       3    0   6      0      0   7.9250       1.0\n",
              "3         1       1    0   6      1      0  53.1000       1.0\n",
              "4         0       3    1   6      0      0   8.0500       1.0"
            ],
            "text/html": [
              "\n",
              "  <div id=\"df-50856e1d-404e-4b08-b93b-354084a77f4d\">\n",
              "    <div class=\"colab-df-container\">\n",
              "      <div>\n",
              "<style scoped>\n",
              "    .dataframe tbody tr th:only-of-type {\n",
              "        vertical-align: middle;\n",
              "    }\n",
              "\n",
              "    .dataframe tbody tr th {\n",
              "        vertical-align: top;\n",
              "    }\n",
              "\n",
              "    .dataframe thead th {\n",
              "        text-align: right;\n",
              "    }\n",
              "</style>\n",
              "<table border=\"1\" class=\"dataframe\">\n",
              "  <thead>\n",
              "    <tr style=\"text-align: right;\">\n",
              "      <th></th>\n",
              "      <th>Survived</th>\n",
              "      <th>Pclass</th>\n",
              "      <th>Sex</th>\n",
              "      <th>Age</th>\n",
              "      <th>SibSp</th>\n",
              "      <th>Parch</th>\n",
              "      <th>Fare</th>\n",
              "      <th>Embarked</th>\n",
              "    </tr>\n",
              "  </thead>\n",
              "  <tbody>\n",
              "    <tr>\n",
              "      <th>0</th>\n",
              "      <td>0</td>\n",
              "      <td>3</td>\n",
              "      <td>1</td>\n",
              "      <td>4</td>\n",
              "      <td>1</td>\n",
              "      <td>0</td>\n",
              "      <td>7.2500</td>\n",
              "      <td>1.0</td>\n",
              "    </tr>\n",
              "    <tr>\n",
              "      <th>1</th>\n",
              "      <td>1</td>\n",
              "      <td>1</td>\n",
              "      <td>0</td>\n",
              "      <td>6</td>\n",
              "      <td>1</td>\n",
              "      <td>0</td>\n",
              "      <td>71.2833</td>\n",
              "      <td>3.0</td>\n",
              "    </tr>\n",
              "    <tr>\n",
              "      <th>2</th>\n",
              "      <td>1</td>\n",
              "      <td>3</td>\n",
              "      <td>0</td>\n",
              "      <td>6</td>\n",
              "      <td>0</td>\n",
              "      <td>0</td>\n",
              "      <td>7.9250</td>\n",
              "      <td>1.0</td>\n",
              "    </tr>\n",
              "    <tr>\n",
              "      <th>3</th>\n",
              "      <td>1</td>\n",
              "      <td>1</td>\n",
              "      <td>0</td>\n",
              "      <td>6</td>\n",
              "      <td>1</td>\n",
              "      <td>0</td>\n",
              "      <td>53.1000</td>\n",
              "      <td>1.0</td>\n",
              "    </tr>\n",
              "    <tr>\n",
              "      <th>4</th>\n",
              "      <td>0</td>\n",
              "      <td>3</td>\n",
              "      <td>1</td>\n",
              "      <td>6</td>\n",
              "      <td>0</td>\n",
              "      <td>0</td>\n",
              "      <td>8.0500</td>\n",
              "      <td>1.0</td>\n",
              "    </tr>\n",
              "  </tbody>\n",
              "</table>\n",
              "</div>\n",
              "      <button class=\"colab-df-convert\" onclick=\"convertToInteractive('df-50856e1d-404e-4b08-b93b-354084a77f4d')\"\n",
              "              title=\"Convert this dataframe to an interactive table.\"\n",
              "              style=\"display:none;\">\n",
              "        \n",
              "  <svg xmlns=\"http://www.w3.org/2000/svg\" height=\"24px\"viewBox=\"0 0 24 24\"\n",
              "       width=\"24px\">\n",
              "    <path d=\"M0 0h24v24H0V0z\" fill=\"none\"/>\n",
              "    <path d=\"M18.56 5.44l.94 2.06.94-2.06 2.06-.94-2.06-.94-.94-2.06-.94 2.06-2.06.94zm-11 1L8.5 8.5l.94-2.06 2.06-.94-2.06-.94L8.5 2.5l-.94 2.06-2.06.94zm10 10l.94 2.06.94-2.06 2.06-.94-2.06-.94-.94-2.06-.94 2.06-2.06.94z\"/><path d=\"M17.41 7.96l-1.37-1.37c-.4-.4-.92-.59-1.43-.59-.52 0-1.04.2-1.43.59L10.3 9.45l-7.72 7.72c-.78.78-.78 2.05 0 2.83L4 21.41c.39.39.9.59 1.41.59.51 0 1.02-.2 1.41-.59l7.78-7.78 2.81-2.81c.8-.78.8-2.07 0-2.86zM5.41 20L4 18.59l7.72-7.72 1.47 1.35L5.41 20z\"/>\n",
              "  </svg>\n",
              "      </button>\n",
              "      \n",
              "  <style>\n",
              "    .colab-df-container {\n",
              "      display:flex;\n",
              "      flex-wrap:wrap;\n",
              "      gap: 12px;\n",
              "    }\n",
              "\n",
              "    .colab-df-convert {\n",
              "      background-color: #E8F0FE;\n",
              "      border: none;\n",
              "      border-radius: 50%;\n",
              "      cursor: pointer;\n",
              "      display: none;\n",
              "      fill: #1967D2;\n",
              "      height: 32px;\n",
              "      padding: 0 0 0 0;\n",
              "      width: 32px;\n",
              "    }\n",
              "\n",
              "    .colab-df-convert:hover {\n",
              "      background-color: #E2EBFA;\n",
              "      box-shadow: 0px 1px 2px rgba(60, 64, 67, 0.3), 0px 1px 3px 1px rgba(60, 64, 67, 0.15);\n",
              "      fill: #174EA6;\n",
              "    }\n",
              "\n",
              "    [theme=dark] .colab-df-convert {\n",
              "      background-color: #3B4455;\n",
              "      fill: #D2E3FC;\n",
              "    }\n",
              "\n",
              "    [theme=dark] .colab-df-convert:hover {\n",
              "      background-color: #434B5C;\n",
              "      box-shadow: 0px 1px 3px 1px rgba(0, 0, 0, 0.15);\n",
              "      filter: drop-shadow(0px 1px 2px rgba(0, 0, 0, 0.3));\n",
              "      fill: #FFFFFF;\n",
              "    }\n",
              "  </style>\n",
              "\n",
              "      <script>\n",
              "        const buttonEl =\n",
              "          document.querySelector('#df-50856e1d-404e-4b08-b93b-354084a77f4d button.colab-df-convert');\n",
              "        buttonEl.style.display =\n",
              "          google.colab.kernel.accessAllowed ? 'block' : 'none';\n",
              "\n",
              "        async function convertToInteractive(key) {\n",
              "          const element = document.querySelector('#df-50856e1d-404e-4b08-b93b-354084a77f4d');\n",
              "          const dataTable =\n",
              "            await google.colab.kernel.invokeFunction('convertToInteractive',\n",
              "                                                     [key], {});\n",
              "          if (!dataTable) return;\n",
              "\n",
              "          const docLinkHtml = 'Like what you see? Visit the ' +\n",
              "            '<a target=\"_blank\" href=https://colab.research.google.com/notebooks/data_table.ipynb>data table notebook</a>'\n",
              "            + ' to learn more about interactive tables.';\n",
              "          element.innerHTML = '';\n",
              "          dataTable['output_type'] = 'display_data';\n",
              "          await google.colab.output.renderOutput(dataTable, element);\n",
              "          const docLink = document.createElement('div');\n",
              "          docLink.innerHTML = docLinkHtml;\n",
              "          element.appendChild(docLink);\n",
              "        }\n",
              "      </script>\n",
              "    </div>\n",
              "  </div>\n",
              "  "
            ]
          },
          "metadata": {},
          "execution_count": 103
        }
      ]
    },
    {
      "cell_type": "code",
      "source": [
        "analisis_test.head()"
      ],
      "metadata": {
        "colab": {
          "base_uri": "https://localhost:8080/",
          "height": 206
        },
        "id": "v_tGWaeuAkdi",
        "outputId": "a50a3d92-4fa2-4ecb-acdb-f08066c7d38d"
      },
      "execution_count": null,
      "outputs": [
        {
          "output_type": "execute_result",
          "data": {
            "text/plain": [
              "   PassengerId  Pclass  Sex Age  SibSp  Parch     Fare  Embarked\n",
              "0          892       3    1   6      0      0   7.8292         0\n",
              "1          893       3    0   7      1      0   7.0000         1\n",
              "3          895       3    1   6      0      0   8.6625         1\n",
              "4          896       3    0   4      1      1  12.2875         1\n",
              "5          897       3    1   2      0      0   9.2250         1"
            ],
            "text/html": [
              "\n",
              "  <div id=\"df-ddaa4c57-de87-4548-8596-86b9ea2fabe7\">\n",
              "    <div class=\"colab-df-container\">\n",
              "      <div>\n",
              "<style scoped>\n",
              "    .dataframe tbody tr th:only-of-type {\n",
              "        vertical-align: middle;\n",
              "    }\n",
              "\n",
              "    .dataframe tbody tr th {\n",
              "        vertical-align: top;\n",
              "    }\n",
              "\n",
              "    .dataframe thead th {\n",
              "        text-align: right;\n",
              "    }\n",
              "</style>\n",
              "<table border=\"1\" class=\"dataframe\">\n",
              "  <thead>\n",
              "    <tr style=\"text-align: right;\">\n",
              "      <th></th>\n",
              "      <th>PassengerId</th>\n",
              "      <th>Pclass</th>\n",
              "      <th>Sex</th>\n",
              "      <th>Age</th>\n",
              "      <th>SibSp</th>\n",
              "      <th>Parch</th>\n",
              "      <th>Fare</th>\n",
              "      <th>Embarked</th>\n",
              "    </tr>\n",
              "  </thead>\n",
              "  <tbody>\n",
              "    <tr>\n",
              "      <th>0</th>\n",
              "      <td>892</td>\n",
              "      <td>3</td>\n",
              "      <td>1</td>\n",
              "      <td>6</td>\n",
              "      <td>0</td>\n",
              "      <td>0</td>\n",
              "      <td>7.8292</td>\n",
              "      <td>0</td>\n",
              "    </tr>\n",
              "    <tr>\n",
              "      <th>1</th>\n",
              "      <td>893</td>\n",
              "      <td>3</td>\n",
              "      <td>0</td>\n",
              "      <td>7</td>\n",
              "      <td>1</td>\n",
              "      <td>0</td>\n",
              "      <td>7.0000</td>\n",
              "      <td>1</td>\n",
              "    </tr>\n",
              "    <tr>\n",
              "      <th>3</th>\n",
              "      <td>895</td>\n",
              "      <td>3</td>\n",
              "      <td>1</td>\n",
              "      <td>6</td>\n",
              "      <td>0</td>\n",
              "      <td>0</td>\n",
              "      <td>8.6625</td>\n",
              "      <td>1</td>\n",
              "    </tr>\n",
              "    <tr>\n",
              "      <th>4</th>\n",
              "      <td>896</td>\n",
              "      <td>3</td>\n",
              "      <td>0</td>\n",
              "      <td>4</td>\n",
              "      <td>1</td>\n",
              "      <td>1</td>\n",
              "      <td>12.2875</td>\n",
              "      <td>1</td>\n",
              "    </tr>\n",
              "    <tr>\n",
              "      <th>5</th>\n",
              "      <td>897</td>\n",
              "      <td>3</td>\n",
              "      <td>1</td>\n",
              "      <td>2</td>\n",
              "      <td>0</td>\n",
              "      <td>0</td>\n",
              "      <td>9.2250</td>\n",
              "      <td>1</td>\n",
              "    </tr>\n",
              "  </tbody>\n",
              "</table>\n",
              "</div>\n",
              "      <button class=\"colab-df-convert\" onclick=\"convertToInteractive('df-ddaa4c57-de87-4548-8596-86b9ea2fabe7')\"\n",
              "              title=\"Convert this dataframe to an interactive table.\"\n",
              "              style=\"display:none;\">\n",
              "        \n",
              "  <svg xmlns=\"http://www.w3.org/2000/svg\" height=\"24px\"viewBox=\"0 0 24 24\"\n",
              "       width=\"24px\">\n",
              "    <path d=\"M0 0h24v24H0V0z\" fill=\"none\"/>\n",
              "    <path d=\"M18.56 5.44l.94 2.06.94-2.06 2.06-.94-2.06-.94-.94-2.06-.94 2.06-2.06.94zm-11 1L8.5 8.5l.94-2.06 2.06-.94-2.06-.94L8.5 2.5l-.94 2.06-2.06.94zm10 10l.94 2.06.94-2.06 2.06-.94-2.06-.94-.94-2.06-.94 2.06-2.06.94z\"/><path d=\"M17.41 7.96l-1.37-1.37c-.4-.4-.92-.59-1.43-.59-.52 0-1.04.2-1.43.59L10.3 9.45l-7.72 7.72c-.78.78-.78 2.05 0 2.83L4 21.41c.39.39.9.59 1.41.59.51 0 1.02-.2 1.41-.59l7.78-7.78 2.81-2.81c.8-.78.8-2.07 0-2.86zM5.41 20L4 18.59l7.72-7.72 1.47 1.35L5.41 20z\"/>\n",
              "  </svg>\n",
              "      </button>\n",
              "      \n",
              "  <style>\n",
              "    .colab-df-container {\n",
              "      display:flex;\n",
              "      flex-wrap:wrap;\n",
              "      gap: 12px;\n",
              "    }\n",
              "\n",
              "    .colab-df-convert {\n",
              "      background-color: #E8F0FE;\n",
              "      border: none;\n",
              "      border-radius: 50%;\n",
              "      cursor: pointer;\n",
              "      display: none;\n",
              "      fill: #1967D2;\n",
              "      height: 32px;\n",
              "      padding: 0 0 0 0;\n",
              "      width: 32px;\n",
              "    }\n",
              "\n",
              "    .colab-df-convert:hover {\n",
              "      background-color: #E2EBFA;\n",
              "      box-shadow: 0px 1px 2px rgba(60, 64, 67, 0.3), 0px 1px 3px 1px rgba(60, 64, 67, 0.15);\n",
              "      fill: #174EA6;\n",
              "    }\n",
              "\n",
              "    [theme=dark] .colab-df-convert {\n",
              "      background-color: #3B4455;\n",
              "      fill: #D2E3FC;\n",
              "    }\n",
              "\n",
              "    [theme=dark] .colab-df-convert:hover {\n",
              "      background-color: #434B5C;\n",
              "      box-shadow: 0px 1px 3px 1px rgba(0, 0, 0, 0.15);\n",
              "      filter: drop-shadow(0px 1px 2px rgba(0, 0, 0, 0.3));\n",
              "      fill: #FFFFFF;\n",
              "    }\n",
              "  </style>\n",
              "\n",
              "      <script>\n",
              "        const buttonEl =\n",
              "          document.querySelector('#df-ddaa4c57-de87-4548-8596-86b9ea2fabe7 button.colab-df-convert');\n",
              "        buttonEl.style.display =\n",
              "          google.colab.kernel.accessAllowed ? 'block' : 'none';\n",
              "\n",
              "        async function convertToInteractive(key) {\n",
              "          const element = document.querySelector('#df-ddaa4c57-de87-4548-8596-86b9ea2fabe7');\n",
              "          const dataTable =\n",
              "            await google.colab.kernel.invokeFunction('convertToInteractive',\n",
              "                                                     [key], {});\n",
              "          if (!dataTable) return;\n",
              "\n",
              "          const docLinkHtml = 'Like what you see? Visit the ' +\n",
              "            '<a target=\"_blank\" href=https://colab.research.google.com/notebooks/data_table.ipynb>data table notebook</a>'\n",
              "            + ' to learn more about interactive tables.';\n",
              "          element.innerHTML = '';\n",
              "          dataTable['output_type'] = 'display_data';\n",
              "          await google.colab.output.renderOutput(dataTable, element);\n",
              "          const docLink = document.createElement('div');\n",
              "          docLink.innerHTML = docLinkHtml;\n",
              "          element.appendChild(docLink);\n",
              "        }\n",
              "      </script>\n",
              "    </div>\n",
              "  </div>\n",
              "  "
            ]
          },
          "metadata": {},
          "execution_count": 104
        }
      ]
    },
    {
      "cell_type": "code",
      "source": [
        "from google.colab import files\n",
        "ruta_archivo = '\"C:Analisis_train\".csv'\n",
        "analisis_train.to_csv(ruta_archivo, index=False)\n",
        "files.download(ruta_archivo)\n"
      ],
      "metadata": {
        "colab": {
          "base_uri": "https://localhost:8080/",
          "height": 17
        },
        "id": "t_usyWE-EOGn",
        "outputId": "a7f43fe2-5cc9-49ab-ccdf-689fa9548db9"
      },
      "execution_count": null,
      "outputs": [
        {
          "output_type": "display_data",
          "data": {
            "text/plain": [
              "<IPython.core.display.Javascript object>"
            ],
            "application/javascript": [
              "\n",
              "    async function download(id, filename, size) {\n",
              "      if (!google.colab.kernel.accessAllowed) {\n",
              "        return;\n",
              "      }\n",
              "      const div = document.createElement('div');\n",
              "      const label = document.createElement('label');\n",
              "      label.textContent = `Downloading \"${filename}\": `;\n",
              "      div.appendChild(label);\n",
              "      const progress = document.createElement('progress');\n",
              "      progress.max = size;\n",
              "      div.appendChild(progress);\n",
              "      document.body.appendChild(div);\n",
              "\n",
              "      const buffers = [];\n",
              "      let downloaded = 0;\n",
              "\n",
              "      const channel = await google.colab.kernel.comms.open(id);\n",
              "      // Send a message to notify the kernel that we're ready.\n",
              "      channel.send({})\n",
              "\n",
              "      for await (const message of channel.messages) {\n",
              "        // Send a message to notify the kernel that we're ready.\n",
              "        channel.send({})\n",
              "        if (message.buffers) {\n",
              "          for (const buffer of message.buffers) {\n",
              "            buffers.push(buffer);\n",
              "            downloaded += buffer.byteLength;\n",
              "            progress.value = downloaded;\n",
              "          }\n",
              "        }\n",
              "      }\n",
              "      const blob = new Blob(buffers, {type: 'application/binary'});\n",
              "      const a = document.createElement('a');\n",
              "      a.href = window.URL.createObjectURL(blob);\n",
              "      a.download = filename;\n",
              "      div.appendChild(a);\n",
              "      a.click();\n",
              "      div.remove();\n",
              "    }\n",
              "  "
            ]
          },
          "metadata": {}
        },
        {
          "output_type": "display_data",
          "data": {
            "text/plain": [
              "<IPython.core.display.Javascript object>"
            ],
            "application/javascript": [
              "download(\"download_3068aaf3-6f01-46c1-8628-23cfa366324a\", \"\\\"C:Analisis_train\\\".csv\", 19272)"
            ]
          },
          "metadata": {}
        }
      ]
    },
    {
      "cell_type": "code",
      "source": [
        "from google.colab import files\n",
        "\n",
        "ruta_archivo = '\"C:Analisis_test\".csv'\n",
        "analisis_test.to_csv(ruta_archivo, index=False)\n",
        "files.download(ruta_archivo)"
      ],
      "metadata": {
        "colab": {
          "base_uri": "https://localhost:8080/",
          "height": 17
        },
        "id": "JMc7jFcLFF1w",
        "outputId": "a0b7293f-ed86-481d-978a-ac5cc10aa395"
      },
      "execution_count": null,
      "outputs": [
        {
          "output_type": "display_data",
          "data": {
            "text/plain": [
              "<IPython.core.display.Javascript object>"
            ],
            "application/javascript": [
              "\n",
              "    async function download(id, filename, size) {\n",
              "      if (!google.colab.kernel.accessAllowed) {\n",
              "        return;\n",
              "      }\n",
              "      const div = document.createElement('div');\n",
              "      const label = document.createElement('label');\n",
              "      label.textContent = `Downloading \"${filename}\": `;\n",
              "      div.appendChild(label);\n",
              "      const progress = document.createElement('progress');\n",
              "      progress.max = size;\n",
              "      div.appendChild(progress);\n",
              "      document.body.appendChild(div);\n",
              "\n",
              "      const buffers = [];\n",
              "      let downloaded = 0;\n",
              "\n",
              "      const channel = await google.colab.kernel.comms.open(id);\n",
              "      // Send a message to notify the kernel that we're ready.\n",
              "      channel.send({})\n",
              "\n",
              "      for await (const message of channel.messages) {\n",
              "        // Send a message to notify the kernel that we're ready.\n",
              "        channel.send({})\n",
              "        if (message.buffers) {\n",
              "          for (const buffer of message.buffers) {\n",
              "            buffers.push(buffer);\n",
              "            downloaded += buffer.byteLength;\n",
              "            progress.value = downloaded;\n",
              "          }\n",
              "        }\n",
              "      }\n",
              "      const blob = new Blob(buffers, {type: 'application/binary'});\n",
              "      const a = document.createElement('a');\n",
              "      a.href = window.URL.createObjectURL(blob);\n",
              "      a.download = filename;\n",
              "      div.appendChild(a);\n",
              "      a.click();\n",
              "      div.remove();\n",
              "    }\n",
              "  "
            ]
          },
          "metadata": {}
        },
        {
          "output_type": "display_data",
          "data": {
            "text/plain": [
              "<IPython.core.display.Javascript object>"
            ],
            "application/javascript": [
              "download(\"download_6d4e0eb3-b813-44a2-9857-e7734735ff60\", \"\\\"C:Analisis_test\\\".csv\", 9378)"
            ]
          },
          "metadata": {}
        }
      ]
    }
  ]
}
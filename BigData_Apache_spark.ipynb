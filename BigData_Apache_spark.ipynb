{
  "nbformat": 4,
  "nbformat_minor": 0,
  "metadata": {
    "colab": {
      "provenance": [],
      "mount_file_id": "1qTS-G5jm4yapaVfo_V9ygaIjL85lsW6j",
      "authorship_tag": "ABX9TyMcFHJfdQE+5bYThaUxNHA6",
      "include_colab_link": true
    },
    "kernelspec": {
      "name": "python3",
      "display_name": "Python 3"
    },
    "language_info": {
      "name": "python"
    }
  },
  "cells": [
    {
      "cell_type": "markdown",
      "metadata": {
        "id": "view-in-github",
        "colab_type": "text"
      },
      "source": [
        "<a href=\"https://colab.research.google.com/github/rocioromera911/Portafolio_RR/blob/main/BigData_Apache_spark.ipynb\" target=\"_parent\"><img src=\"https://colab.research.google.com/assets/colab-badge.svg\" alt=\"Open In Colab\"/></a>"
      ]
    },
    {
      "cell_type": "code",
      "execution_count": null,
      "metadata": {
        "colab": {
          "base_uri": "https://localhost:8080/"
        },
        "id": "11p9lHJ8A5He",
        "outputId": "59ce9383-0868-46e4-a00e-235cb61cde81"
      },
      "outputs": [
        {
          "output_type": "stream",
          "name": "stdout",
          "text": [
            "Reading package lists... Done\n",
            "Building dependency tree... Done\n",
            "Reading state information... Done\n",
            "openjdk-8-jdk-headless is already the newest version (8u382-ga-1~22.04.1).\n",
            "0 upgraded, 0 newly installed, 0 to remove and 6 not upgraded.\n"
          ]
        }
      ],
      "source": [
        "!apt-get install openjdk-8-jdk-headless\n"
      ]
    },
    {
      "cell_type": "code",
      "source": [
        "!wget https://dlcdn.apache.org/spark/spark-3.5.0/spark-3.5.0-bin-hadoop3.tgz"
      ],
      "metadata": {
        "colab": {
          "base_uri": "https://localhost:8080/"
        },
        "id": "oIz7PnhpBQYH",
        "outputId": "3a21258d-e9be-4d28-9530-4c349a1f8066"
      },
      "execution_count": null,
      "outputs": [
        {
          "output_type": "stream",
          "name": "stdout",
          "text": [
            "--2023-11-14 23:24:54--  https://dlcdn.apache.org/spark/spark-3.5.0/spark-3.5.0-bin-hadoop3.tgz\n",
            "Resolving dlcdn.apache.org (dlcdn.apache.org)... 151.101.2.132, 2a04:4e42::644\n",
            "Connecting to dlcdn.apache.org (dlcdn.apache.org)|151.101.2.132|:443... connected.\n",
            "HTTP request sent, awaiting response... 200 OK\n",
            "Length: 400395283 (382M) [application/x-gzip]\n",
            "Saving to: ‘spark-3.5.0-bin-hadoop3.tgz.1’\n",
            "\n",
            "spark-3.5.0-bin-had 100%[===================>] 381.85M   224MB/s    in 1.7s    \n",
            "\n",
            "2023-11-14 23:25:05 (224 MB/s) - ‘spark-3.5.0-bin-hadoop3.tgz.1’ saved [400395283/400395283]\n",
            "\n"
          ]
        }
      ]
    },
    {
      "cell_type": "code",
      "source": [
        "!tar xf spark-3.5.0-bin-hadoop3.tgz\n"
      ],
      "metadata": {
        "id": "JUf3Gq73BQ4j"
      },
      "execution_count": null,
      "outputs": []
    },
    {
      "cell_type": "code",
      "source": [
        "#IMPORTE EL MODULO FINDSPARK\n",
        "!pip install findspark\n",
        "!pip install pyspark"
      ],
      "metadata": {
        "colab": {
          "base_uri": "https://localhost:8080/"
        },
        "id": "Mhinx13PBSpc",
        "outputId": "e5555c40-9f20-43b4-acab-2a50ddad23da"
      },
      "execution_count": null,
      "outputs": [
        {
          "output_type": "stream",
          "name": "stdout",
          "text": [
            "Requirement already satisfied: findspark in /usr/local/lib/python3.10/dist-packages (2.0.1)\n",
            "Requirement already satisfied: pyspark in /usr/local/lib/python3.10/dist-packages (3.5.0)\n",
            "Requirement already satisfied: py4j==0.10.9.7 in /usr/local/lib/python3.10/dist-packages (from pyspark) (0.10.9.7)\n"
          ]
        }
      ]
    },
    {
      "cell_type": "code",
      "source": [
        "import findspark\n",
        "from pyspark.sql import SparkSession"
      ],
      "metadata": {
        "id": "c9afGu5eBYRk"
      },
      "execution_count": null,
      "outputs": []
    },
    {
      "cell_type": "code",
      "source": [
        "#INICIALICE EL OBJETO FINDSPARK APUNTADO A LA RUTA DE SU CARPETA SPARK\n",
        "spark_path = \"/content/spark-3.5.0-bin-hadoop3\"\n",
        "\n",
        "# Inicializa findspark con la ruta de Spark\n",
        "findspark.init(spark_path)\n",
        "#CREE EL OBJETO SPARK Y UNA APP LLAMADA ALUMNO\n",
        "spark = SparkSession.builder.appName(\"alumno\").getOrCreate()"
      ],
      "metadata": {
        "id": "awuJdneQBZxy"
      },
      "execution_count": null,
      "outputs": []
    },
    {
      "cell_type": "code",
      "source": [
        "#cARGUE EN UN DATAFRAME LLAMADO DF_CSV\n",
        "df_csv = spark.read.format(\"csv\").options(inferSchema=True, sep=\",\", header=\"True\").load(\"/content/cars.csv\")"
      ],
      "metadata": {
        "id": "DSEVLB9ZEO1H"
      },
      "execution_count": null,
      "outputs": []
    },
    {
      "cell_type": "code",
      "source": [
        "#Muestre el esquema del df\n",
        "df_csv.printSchema()"
      ],
      "metadata": {
        "colab": {
          "base_uri": "https://localhost:8080/"
        },
        "id": "1QKuIvBPEi3M",
        "outputId": "4283dc90-716b-4a98-df26-158c5faab3c5"
      },
      "execution_count": null,
      "outputs": [
        {
          "output_type": "stream",
          "name": "stdout",
          "text": [
            "root\n",
            " |-- id: integer (nullable = true)\n",
            " |-- full_name: string (nullable = true)\n",
            " |-- email: string (nullable = true)\n",
            " |-- country: string (nullable = true)\n",
            " |-- car_make: string (nullable = true)\n",
            " |-- gender: string (nullable = true)\n",
            "\n"
          ]
        }
      ]
    },
    {
      "cell_type": "code",
      "source": [
        "#Muestre los 10 primeros\n",
        "df_csv.show(10)"
      ],
      "metadata": {
        "colab": {
          "base_uri": "https://localhost:8080/"
        },
        "id": "tGH4ZEIkEwvr",
        "outputId": "f47117cd-4c01-448e-8239-eea3d4b3ed14"
      },
      "execution_count": null,
      "outputs": [
        {
          "output_type": "stream",
          "name": "stdout",
          "text": [
            "+---+-----------------+--------------------+-------------+---------+------+\n",
            "| id|        full_name|               email|      country| car_make|gender|\n",
            "+---+-----------------+--------------------+-------------+---------+------+\n",
            "|  1|       Arch Muzzi|amuzzi0@freewebs.com|      Jamaica|  Bentley|     M|\n",
            "|  2|  Frederich Bates|fbates1@wordpress...|       Brazil|    Volvo|     M|\n",
            "|  3|  Alphard Crowder|acrowder2@google....|        China|     Ford|     M|\n",
            "|  4|Robinett Spedding|rspedding3@hostga...|United States|   Suzuki|     F|\n",
            "|  5|   Kellia Muskett|kmuskett4@mayocli...|       Russia|Chevrolet|     F|\n",
            "|  6|    Donal Mulloch|    dmulloch5@vk.com|       France|     Audi|     M|\n",
            "|  7|    Nahum Arnoult|narnoult6@science...|       Russia|  Lincoln|     M|\n",
            "|  8|     Bastien Pate|     bpate7@furl.net|    Indonesia|   Subaru|     M|\n",
            "|  9|  Harmony Resdale|hresdale8@chronoe...|  North Korea|     Ford|     F|\n",
            "| 10|     Adamo Volant|avolant9@twitter.com|     Malaysia|  Mercury|     M|\n",
            "+---+-----------------+--------------------+-------------+---------+------+\n",
            "only showing top 10 rows\n",
            "\n"
          ]
        }
      ]
    },
    {
      "cell_type": "code",
      "source": [
        "df_csv.createOrReplaceTempView(\"cars\")"
      ],
      "metadata": {
        "id": "7HcZ1uIpE-Nx"
      },
      "execution_count": null,
      "outputs": []
    },
    {
      "cell_type": "code",
      "source": [
        "sql_query = \"\"\"\n",
        "    SELECT full_name, id, email, country, car_make\n",
        "    FROM cars\n",
        "    WHERE gender = 'F'\n",
        "    ORDER BY full_name ASC\n",
        "\"\"\"\n",
        "\n",
        "df1 = spark.sql(sql_query)"
      ],
      "metadata": {
        "id": "r4HyQjHSF2qT"
      },
      "execution_count": null,
      "outputs": []
    },
    {
      "cell_type": "code",
      "source": [
        "df1.show(25)"
      ],
      "metadata": {
        "colab": {
          "base_uri": "https://localhost:8080/"
        },
        "id": "0w27LODgGj4n",
        "outputId": "324c715d-b8ac-43a0-e30d-137d54686f15"
      },
      "execution_count": null,
      "outputs": [
        {
          "output_type": "stream",
          "name": "stdout",
          "text": [
            "+--------------------+---+--------------------+-----------+----------+\n",
            "|           full_name| id|               email|    country|  car_make|\n",
            "+--------------------+---+--------------------+-----------+----------+\n",
            "|    Adelice Fibbitts|235|afibbitts6i@hc360...|      Chile|     Volvo|\n",
            "|       Alethea Cheng| 64|   acheng1r@etsy.com|     Serbia|      Ford|\n",
            "|       Almira Pescud| 59|apescud1m@taobao.com|    Ecuador|     Honda|\n",
            "|      Anderea Eisold|140|aeisold3v@studiop...|      China|      Audi|\n",
            "|  Annette Henningham| 54|ahenningham1h@dai...|      China|     Mazda|\n",
            "|         Arda Reston| 34|arestonx@surveymo...|     Russia|   Maybach|\n",
            "|     Ardis Creedland| 44|acreedland17@ifen...|     Russia|  Chrysler|\n",
            "|      Aurelie Klejin|183|aklejin52@webnode...|      China|       GMC|\n",
            "|     Benni Firminger|236|bfirminger6j@cana...|      Japan|   Mercury|\n",
            "|         Beryl Olexa|168|bolexa4n@bluehost...|   Portugal| Chevrolet|\n",
            "|      Billye Franchi|116|bfranchi37@dailym...|     Uganda|     Isuzu|\n",
            "|    Brana Clutterham| 47|bclutterham1a@eur...|   Tanzania|    Suzuki|\n",
            "|          Cal Lenden|165|clenden4k@forbes.com|    Ecuador|Oldsmobile|\n",
            "|  Christean Hesbrook|244|chesbrook6r@spieg...|   Cameroon|    Toyota|\n",
            "|     Christye Pudney|148|     cpudney43@de.vu|     Sweden|  Maserati|\n",
            "|       Cindra Frewer|247|  cfrewer6u@time.com|     Sweden|  Cadillac|\n",
            "|  Cinnamon Simonetto|220|csimonetto63@barn...| Martinique|     Isuzu|\n",
            "|    Claudine Segrave|152|csegrave47@dailym...|Philippines|     Honda|\n",
            "|Concettina McCoveney| 74|cmccoveney21@ask.com|      Chile|    Toyota|\n",
            "|      Connie Lowfill|119|clowfill3a@openso...|      China|      Ford|\n",
            "|        Cordey Bauer|234| cbauer6h@weebly.com|     Russia|       GMC|\n",
            "|   Corena Dawidowitz| 79|cdawidowitz26@lis...|  Argentina| Chevrolet|\n",
            "|     Crista Taillard| 49|ctaillard1c@ebay....|     France|       BMW|\n",
            "|     Cthrine Lilford|125|clilford3g@delici...|      Egypt|    Subaru|\n",
            "|    Daisi De Bruijne| 39|dde12@deviantart.com|      China|    Subaru|\n",
            "+--------------------+---+--------------------+-----------+----------+\n",
            "only showing top 25 rows\n",
            "\n"
          ]
        }
      ]
    },
    {
      "cell_type": "code",
      "source": [
        "sql_query = \"\"\"\n",
        "    SELECT id,full_name, email, country\n",
        "    FROM cars\n",
        "    WHERE car_make = 'Ford' AND gender='M'\n",
        "    ORDER BY id ASC\n",
        "\"\"\"\n",
        "\n",
        "df2 = spark.sql(sql_query)"
      ],
      "metadata": {
        "id": "TuIDUz2kGnvQ"
      },
      "execution_count": null,
      "outputs": []
    },
    {
      "cell_type": "code",
      "source": [
        "df2.show(10)"
      ],
      "metadata": {
        "colab": {
          "base_uri": "https://localhost:8080/"
        },
        "id": "gAG3c_E-Hew8",
        "outputId": "cecd4abe-2703-46a6-e379-515a7e1c4fc8"
      },
      "execution_count": null,
      "outputs": [
        {
          "output_type": "stream",
          "name": "stdout",
          "text": [
            "+---+-------------------+--------------------+--------------------+\n",
            "| id|          full_name|               email|             country|\n",
            "+---+-------------------+--------------------+--------------------+\n",
            "|  3|    Alphard Crowder|acrowder2@google....|               China|\n",
            "| 11|       Gale Beddall|   gbeddalla@tiny.cc|Palestinian Terri...|\n",
            "| 14|   Maxwell Flintoft|mflintoftd@sfgate...|           Indonesia|\n",
            "| 16|    Dominick Girard|dgirardf@miitbeia...|            Bulgaria|\n",
            "| 24|  Tremaine Gusticke| tgusticken@army.mil|               China|\n",
            "| 46|      Shaine Lawday|     slawday19@is.gd|        South Africa|\n",
            "| 48|Alexandros Henrique| ahenrique1b@ihg.com|               China|\n",
            "| 60|      Rawley Ailmer|railmer1n@oaic.go...|               China|\n",
            "| 95|       Doug Goreway|dgoreway2m@bookin...|               China|\n",
            "|100|  Arthur Rawsthorne|arawsthorne2r@web...|              Poland|\n",
            "+---+-------------------+--------------------+--------------------+\n",
            "only showing top 10 rows\n",
            "\n"
          ]
        }
      ]
    },
    {
      "cell_type": "code",
      "source": [
        "sql_query = \"\"\"\n",
        "    SELECT car_make, COUNT(*) as total\n",
        "    FROM cars\n",
        "    GROUP BY car_make\n",
        "    ORDER BY total DESC\n",
        "\"\"\"\n",
        "df3 = spark.sql(sql_query)\n",
        "df3.show(3)"
      ],
      "metadata": {
        "colab": {
          "base_uri": "https://localhost:8080/"
        },
        "id": "xHAVHnhTHhcC",
        "outputId": "0563ce09-7133-4cf3-a283-2c42a291bbd0"
      },
      "execution_count": null,
      "outputs": [
        {
          "output_type": "stream",
          "name": "stdout",
          "text": [
            "+---------+-----+\n",
            "| car_make|total|\n",
            "+---------+-----+\n",
            "|     Ford|   29|\n",
            "|Chevrolet|   13|\n",
            "|   Toyota|   13|\n",
            "+---------+-----+\n",
            "only showing top 3 rows\n",
            "\n"
          ]
        }
      ]
    },
    {
      "cell_type": "code",
      "source": [
        "\n",
        "# Ruta donde se guardará el archivo CSV en Google Drive\n",
        "output_path_drive = \"/content/drive/MyDrive/ies 2023/2023/2s/big data\"\n",
        "\n",
        "# Guarda el DataFrame 'result_df' en un archivo CSV en Google Drive\n",
        "df3.write.csv(output_path_drive, header=True, mode=\"overwrite\")\n",
        "\n",
        "\n"
      ],
      "metadata": {
        "id": "ne8bdf8yIPoe"
      },
      "execution_count": null,
      "outputs": []
    }
  ]
}